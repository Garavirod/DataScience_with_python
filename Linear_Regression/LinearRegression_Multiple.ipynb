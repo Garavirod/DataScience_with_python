{
 "cells": [
  {
   "cell_type": "code",
   "execution_count": 1,
   "metadata": {},
   "outputs": [],
   "source": [
    "import pandas as pd\n",
    "import statsmodels.formula.api as sfm\n",
    "import matplotlib.pyplot as plt\n",
    "import numpy as np\n",
    "from math import ceil"
   ]
  },
  {
   "cell_type": "code",
   "execution_count": 2,
   "metadata": {},
   "outputs": [],
   "source": [
    "data = pd.read_csv(\"DataSets/Advertising.csv\")"
   ]
  },
  {
   "cell_type": "code",
   "execution_count": 3,
   "metadata": {},
   "outputs": [
    {
     "data": {
      "text/html": [
       "<div>\n",
       "<style scoped>\n",
       "    .dataframe tbody tr th:only-of-type {\n",
       "        vertical-align: middle;\n",
       "    }\n",
       "\n",
       "    .dataframe tbody tr th {\n",
       "        vertical-align: top;\n",
       "    }\n",
       "\n",
       "    .dataframe thead th {\n",
       "        text-align: right;\n",
       "    }\n",
       "</style>\n",
       "<table border=\"1\" class=\"dataframe\">\n",
       "  <thead>\n",
       "    <tr style=\"text-align: right;\">\n",
       "      <th></th>\n",
       "      <th>TV</th>\n",
       "      <th>Radio</th>\n",
       "      <th>Newspaper</th>\n",
       "      <th>Sales</th>\n",
       "    </tr>\n",
       "  </thead>\n",
       "  <tbody>\n",
       "    <tr>\n",
       "      <th>0</th>\n",
       "      <td>230.1</td>\n",
       "      <td>37.8</td>\n",
       "      <td>69.2</td>\n",
       "      <td>22.1</td>\n",
       "    </tr>\n",
       "    <tr>\n",
       "      <th>1</th>\n",
       "      <td>44.5</td>\n",
       "      <td>39.3</td>\n",
       "      <td>45.1</td>\n",
       "      <td>10.4</td>\n",
       "    </tr>\n",
       "    <tr>\n",
       "      <th>2</th>\n",
       "      <td>17.2</td>\n",
       "      <td>45.9</td>\n",
       "      <td>69.3</td>\n",
       "      <td>9.3</td>\n",
       "    </tr>\n",
       "    <tr>\n",
       "      <th>3</th>\n",
       "      <td>151.5</td>\n",
       "      <td>41.3</td>\n",
       "      <td>58.5</td>\n",
       "      <td>18.5</td>\n",
       "    </tr>\n",
       "    <tr>\n",
       "      <th>4</th>\n",
       "      <td>180.8</td>\n",
       "      <td>10.8</td>\n",
       "      <td>58.4</td>\n",
       "      <td>12.9</td>\n",
       "    </tr>\n",
       "  </tbody>\n",
       "</table>\n",
       "</div>"
      ],
      "text/plain": [
       "      TV  Radio  Newspaper  Sales\n",
       "0  230.1   37.8       69.2   22.1\n",
       "1   44.5   39.3       45.1   10.4\n",
       "2   17.2   45.9       69.3    9.3\n",
       "3  151.5   41.3       58.5   18.5\n",
       "4  180.8   10.8       58.4   12.9"
      ]
     },
     "execution_count": 3,
     "metadata": {},
     "output_type": "execute_result"
    }
   ],
   "source": [
    "data.head()"
   ]
  },
  {
   "cell_type": "code",
   "execution_count": 4,
   "metadata": {},
   "outputs": [],
   "source": [
    "lm = sfm.ols(formula=\"Sales~TV+Newspaper\",data=data).fit()"
   ]
  },
  {
   "cell_type": "code",
   "execution_count": 5,
   "metadata": {},
   "outputs": [
    {
     "data": {
      "text/plain": [
       "Intercept    5.774948\n",
       "TV           0.046901\n",
       "Newspaper    0.044219\n",
       "dtype: float64"
      ]
     },
     "execution_count": 5,
     "metadata": {},
     "output_type": "execute_result"
    }
   ],
   "source": [
    "lm.params"
   ]
  },
  {
   "cell_type": "code",
   "execution_count": 6,
   "metadata": {},
   "outputs": [
    {
     "data": {
      "text/plain": [
       "Intercept    3.145860e-22\n",
       "TV           5.507584e-44\n",
       "Newspaper    2.217084e-05\n",
       "dtype: float64"
      ]
     },
     "execution_count": 6,
     "metadata": {},
     "output_type": "execute_result"
    }
   ],
   "source": [
    "lm.pvalues"
   ]
  },
  {
   "cell_type": "code",
   "execution_count": 10,
   "metadata": {},
   "outputs": [],
   "source": [
    "sales_pred = lm.predict(data[[\"TV\",\"Newspaper\"]])"
   ]
  },
  {
   "cell_type": "code",
   "execution_count": 11,
   "metadata": {},
   "outputs": [
    {
     "data": {
      "text/plain": [
       "0    19.626901\n",
       "1     9.856348\n",
       "2     9.646055\n",
       "3    15.467318\n",
       "4    16.837102\n",
       "dtype: float64"
      ]
     },
     "execution_count": 11,
     "metadata": {},
     "output_type": "execute_result"
    }
   ],
   "source": [
    "sales_pred.head()"
   ]
  },
  {
   "cell_type": "code",
   "execution_count": 13,
   "metadata": {},
   "outputs": [],
   "source": [
    "SSD = sum((data[\"Sales\"]-sales_pred)**2)"
   ]
  },
  {
   "cell_type": "code",
   "execution_count": 14,
   "metadata": {},
   "outputs": [
    {
     "data": {
      "text/plain": [
       "1918.561811896827"
      ]
     },
     "execution_count": 14,
     "metadata": {},
     "output_type": "execute_result"
    }
   ],
   "source": [
    "SSD"
   ]
  },
  {
   "cell_type": "code",
   "execution_count": 15,
   "metadata": {},
   "outputs": [],
   "source": [
    "RSE = np.sqrt(SSD/(len(data)-2-1))"
   ]
  },
  {
   "cell_type": "code",
   "execution_count": 16,
   "metadata": {},
   "outputs": [
    {
     "data": {
      "text/plain": [
       "3.120719860252885"
      ]
     },
     "execution_count": 16,
     "metadata": {},
     "output_type": "execute_result"
    }
   ],
   "source": [
    "RSE"
   ]
  },
  {
   "cell_type": "code",
   "execution_count": 20,
   "metadata": {},
   "outputs": [],
   "source": [
    "sales_mean = np.mean(data[\"Sales\"]) #Numerode ventas promedio"
   ]
  },
  {
   "cell_type": "code",
   "execution_count": 21,
   "metadata": {},
   "outputs": [],
   "source": [
    "error = RSE /sales_mean"
   ]
  },
  {
   "cell_type": "code",
   "execution_count": 22,
   "metadata": {},
   "outputs": [
    {
     "data": {
      "text/plain": [
       "0.2225508903728212"
      ]
     },
     "execution_count": 22,
     "metadata": {},
     "output_type": "execute_result"
    }
   ],
   "source": [
    "error"
   ]
  },
  {
   "cell_type": "code",
   "execution_count": 24,
   "metadata": {},
   "outputs": [
    {
     "data": {
      "text/html": [
       "<table class=\"simpletable\">\n",
       "<tr>\n",
       "        <td>Model:</td>               <td>OLS</td>         <td>Adj. R-squared:</td>     <td>0.642</td>  \n",
       "</tr>\n",
       "<tr>\n",
       "  <td>Dependent Variable:</td>       <td>Sales</td>             <td>AIC:</td>         <td>1025.7782</td>\n",
       "</tr>\n",
       "<tr>\n",
       "         <td>Date:</td>        <td>2019-07-12 20:49</td>        <td>BIC:</td>         <td>1035.6731</td>\n",
       "</tr>\n",
       "<tr>\n",
       "   <td>No. Observations:</td>         <td>200</td>         <td>Log-Likelihood:</td>    <td>-509.89</td> \n",
       "</tr>\n",
       "<tr>\n",
       "       <td>Df Model:</td>              <td>2</td>           <td>F-statistic:</td>       <td>179.6</td>  \n",
       "</tr>\n",
       "<tr>\n",
       "     <td>Df Residuals:</td>           <td>197</td>       <td>Prob (F-statistic):</td> <td>3.95e-45</td> \n",
       "</tr>\n",
       "<tr>\n",
       "      <td>R-squared:</td>            <td>0.646</td>            <td>Scale:</td>         <td>9.7389</td>  \n",
       "</tr>\n",
       "</table>\n",
       "<table class=\"simpletable\">\n",
       "<tr>\n",
       "      <td></td>       <th>Coef.</th> <th>Std.Err.</th>    <th>t</th>     <th>P>|t|</th> <th>[0.025</th> <th>0.975]</th>\n",
       "</tr>\n",
       "<tr>\n",
       "  <th>Intercept</th> <td>5.7749</td>  <td>0.5253</td>  <td>10.9928</td> <td>0.0000</td> <td>4.7389</td> <td>6.8110</td>\n",
       "</tr>\n",
       "<tr>\n",
       "  <th>TV</th>        <td>0.0469</td>  <td>0.0026</td>  <td>18.1727</td> <td>0.0000</td> <td>0.0418</td> <td>0.0520</td>\n",
       "</tr>\n",
       "<tr>\n",
       "  <th>Newspaper</th> <td>0.0442</td>  <td>0.0102</td>  <td>4.3463</td>  <td>0.0000</td> <td>0.0242</td> <td>0.0643</td>\n",
       "</tr>\n",
       "</table>\n",
       "<table class=\"simpletable\">\n",
       "<tr>\n",
       "     <td>Omnibus:</td>     <td>0.658</td>  <td>Durbin-Watson:</td>   <td>1.969</td>\n",
       "</tr>\n",
       "<tr>\n",
       "  <td>Prob(Omnibus):</td>  <td>0.720</td> <td>Jarque-Bera (JB):</td> <td>0.415</td>\n",
       "</tr>\n",
       "<tr>\n",
       "       <td>Skew:</td>     <td>-0.093</td>     <td>Prob(JB):</td>     <td>0.813</td>\n",
       "</tr>\n",
       "<tr>\n",
       "     <td>Kurtosis:</td>    <td>3.122</td>  <td>Condition No.:</td>    <td>410</td> \n",
       "</tr>\n",
       "</table>"
      ],
      "text/plain": [
       "<class 'statsmodels.iolib.summary2.Summary'>\n",
       "\"\"\"\n",
       "                 Results: Ordinary least squares\n",
       "==================================================================\n",
       "Model:              OLS              Adj. R-squared:     0.642    \n",
       "Dependent Variable: Sales            AIC:                1025.7782\n",
       "Date:               2019-07-12 20:49 BIC:                1035.6731\n",
       "No. Observations:   200              Log-Likelihood:     -509.89  \n",
       "Df Model:           2                F-statistic:        179.6    \n",
       "Df Residuals:       197              Prob (F-statistic): 3.95e-45 \n",
       "R-squared:          0.646            Scale:              9.7389   \n",
       "--------------------------------------------------------------------\n",
       "              Coef.    Std.Err.      t      P>|t|    [0.025   0.975]\n",
       "--------------------------------------------------------------------\n",
       "Intercept     5.7749     0.5253   10.9928   0.0000   4.7389   6.8110\n",
       "TV            0.0469     0.0026   18.1727   0.0000   0.0418   0.0520\n",
       "Newspaper     0.0442     0.0102    4.3463   0.0000   0.0242   0.0643\n",
       "------------------------------------------------------------------\n",
       "Omnibus:              0.658         Durbin-Watson:           1.969\n",
       "Prob(Omnibus):        0.720         Jarque-Bera (JB):        0.415\n",
       "Skew:                 -0.093        Prob(JB):                0.813\n",
       "Kurtosis:             3.122         Condition No.:           410  \n",
       "==================================================================\n",
       "\n",
       "\"\"\""
      ]
     },
     "execution_count": 24,
     "metadata": {},
     "output_type": "execute_result"
    }
   ],
   "source": [
    "lm.summary2()"
   ]
  },
  {
   "cell_type": "code",
   "execution_count": 26,
   "metadata": {},
   "outputs": [],
   "source": [
    "lm2 = sfm.ols(formula='Sales~TV+Radio+Newspaper', data=data).fit()"
   ]
  },
  {
   "cell_type": "code",
   "execution_count": 28,
   "metadata": {},
   "outputs": [
    {
     "data": {
      "text/html": [
       "<table class=\"simpletable\">\n",
       "<tr>\n",
       "        <td>Model:</td>               <td>OLS</td>         <td>Adj. R-squared:</td>     <td>0.896</td> \n",
       "</tr>\n",
       "<tr>\n",
       "  <td>Dependent Variable:</td>       <td>Sales</td>             <td>AIC:</td>         <td>780.3622</td>\n",
       "</tr>\n",
       "<tr>\n",
       "         <td>Date:</td>        <td>2019-07-12 21:13</td>        <td>BIC:</td>         <td>793.5555</td>\n",
       "</tr>\n",
       "<tr>\n",
       "   <td>No. Observations:</td>         <td>200</td>         <td>Log-Likelihood:</td>    <td>-386.18</td>\n",
       "</tr>\n",
       "<tr>\n",
       "       <td>Df Model:</td>              <td>3</td>           <td>F-statistic:</td>       <td>570.3</td> \n",
       "</tr>\n",
       "<tr>\n",
       "     <td>Df Residuals:</td>           <td>196</td>       <td>Prob (F-statistic):</td> <td>1.58e-96</td>\n",
       "</tr>\n",
       "<tr>\n",
       "      <td>R-squared:</td>            <td>0.897</td>            <td>Scale:</td>         <td>2.8409</td> \n",
       "</tr>\n",
       "</table>\n",
       "<table class=\"simpletable\">\n",
       "<tr>\n",
       "      <td></td>       <th>Coef.</th>  <th>Std.Err.</th>    <th>t</th>     <th>P>|t|</th> <th>[0.025</th>  <th>0.975]</th>\n",
       "</tr>\n",
       "<tr>\n",
       "  <th>Intercept</th> <td>2.9389</td>   <td>0.3119</td>  <td>9.4223</td>  <td>0.0000</td> <td>2.3238</td>  <td>3.5540</td>\n",
       "</tr>\n",
       "<tr>\n",
       "  <th>TV</th>        <td>0.0458</td>   <td>0.0014</td>  <td>32.8086</td> <td>0.0000</td> <td>0.0430</td>  <td>0.0485</td>\n",
       "</tr>\n",
       "<tr>\n",
       "  <th>Radio</th>     <td>0.1885</td>   <td>0.0086</td>  <td>21.8935</td> <td>0.0000</td> <td>0.1715</td>  <td>0.2055</td>\n",
       "</tr>\n",
       "<tr>\n",
       "  <th>Newspaper</th> <td>-0.0010</td>  <td>0.0059</td>  <td>-0.1767</td> <td>0.8599</td> <td>-0.0126</td> <td>0.0105</td>\n",
       "</tr>\n",
       "</table>\n",
       "<table class=\"simpletable\">\n",
       "<tr>\n",
       "     <td>Omnibus:</td>    <td>60.414</td>  <td>Durbin-Watson:</td>    <td>2.084</td> \n",
       "</tr>\n",
       "<tr>\n",
       "  <td>Prob(Omnibus):</td>  <td>0.000</td> <td>Jarque-Bera (JB):</td> <td>151.241</td>\n",
       "</tr>\n",
       "<tr>\n",
       "       <td>Skew:</td>     <td>-1.327</td>     <td>Prob(JB):</td>      <td>0.000</td> \n",
       "</tr>\n",
       "<tr>\n",
       "     <td>Kurtosis:</td>    <td>6.332</td>  <td>Condition No.:</td>     <td>454</td>  \n",
       "</tr>\n",
       "</table>"
      ],
      "text/plain": [
       "<class 'statsmodels.iolib.summary2.Summary'>\n",
       "\"\"\"\n",
       "                 Results: Ordinary least squares\n",
       "=================================================================\n",
       "Model:              OLS              Adj. R-squared:     0.896   \n",
       "Dependent Variable: Sales            AIC:                780.3622\n",
       "Date:               2019-07-12 21:13 BIC:                793.5555\n",
       "No. Observations:   200              Log-Likelihood:     -386.18 \n",
       "Df Model:           3                F-statistic:        570.3   \n",
       "Df Residuals:       196              Prob (F-statistic): 1.58e-96\n",
       "R-squared:          0.897            Scale:              2.8409  \n",
       "------------------------------------------------------------------\n",
       "                Coef.   Std.Err.     t     P>|t|    [0.025  0.975]\n",
       "------------------------------------------------------------------\n",
       "Intercept       2.9389    0.3119   9.4223  0.0000   2.3238  3.5540\n",
       "TV              0.0458    0.0014  32.8086  0.0000   0.0430  0.0485\n",
       "Radio           0.1885    0.0086  21.8935  0.0000   0.1715  0.2055\n",
       "Newspaper      -0.0010    0.0059  -0.1767  0.8599  -0.0126  0.0105\n",
       "-----------------------------------------------------------------\n",
       "Omnibus:             60.414       Durbin-Watson:          2.084  \n",
       "Prob(Omnibus):       0.000        Jarque-Bera (JB):       151.241\n",
       "Skew:                -1.327       Prob(JB):               0.000  \n",
       "Kurtosis:            6.332        Condition No.:          454    \n",
       "=================================================================\n",
       "\n",
       "\"\"\""
      ]
     },
     "execution_count": 28,
     "metadata": {},
     "output_type": "execute_result"
    }
   ],
   "source": [
    "lm2.summary2()"
   ]
  }
 ],
 "metadata": {
  "kernelspec": {
   "display_name": "Python 3",
   "language": "python",
   "name": "python3"
  },
  "language_info": {
   "codemirror_mode": {
    "name": "ipython",
    "version": 3
   },
   "file_extension": ".py",
   "mimetype": "text/x-python",
   "name": "python",
   "nbconvert_exporter": "python",
   "pygments_lexer": "ipython3",
   "version": "3.7.1"
  }
 },
 "nbformat": 4,
 "nbformat_minor": 2
}
