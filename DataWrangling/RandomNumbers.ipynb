{
 "cells": [
  {
   "cell_type": "markdown",
   "metadata": {},
   "source": [
    "# Random numbers"
   ]
  },
  {
   "cell_type": "markdown",
   "metadata": {},
   "source": [
    "### Generation of random numbers"
   ]
  },
  {
   "cell_type": "code",
   "execution_count": 9,
   "metadata": {},
   "outputs": [],
   "source": [
    "import numpy as np\n",
    "import random as ran"
   ]
  },
  {
   "cell_type": "code",
   "execution_count": 5,
   "metadata": {},
   "outputs": [
    {
     "data": {
      "text/plain": [
       "49"
      ]
     },
     "execution_count": 5,
     "metadata": {},
     "output_type": "execute_result"
    }
   ],
   "source": [
    "np.random.randint(1,100) #return a number from 1 to 100"
   ]
  },
  {
   "cell_type": "markdown",
   "metadata": {},
   "source": [
    "### Get a random umbr between 0 and 1"
   ]
  },
  {
   "cell_type": "code",
   "execution_count": 6,
   "metadata": {},
   "outputs": [
    {
     "data": {
      "text/plain": [
       "0.8765896854380828"
      ]
     },
     "execution_count": 6,
     "metadata": {},
     "output_type": "execute_result"
    }
   ],
   "source": [
    "np.random.random()"
   ]
  },
  {
   "cell_type": "markdown",
   "metadata": {},
   "source": [
    "### Using own functions"
   ]
  },
  {
   "cell_type": "code",
   "execution_count": 7,
   "metadata": {},
   "outputs": [],
   "source": [
    "def get_rand_int_list(size,a,b):\n",
    "    return [np.random.randint(a,b) for i in range(size)]"
   ]
  },
  {
   "cell_type": "code",
   "execution_count": 8,
   "metadata": {},
   "outputs": [
    {
     "name": "stdout",
     "output_type": "stream",
     "text": [
      "[30, 46, 3, 39, 36, 16, 14, 37, 5, 26, 40, 15, 11, 45, 18, 28, 35, 22, 21, 1]\n"
     ]
    }
   ],
   "source": [
    "print(get_rand_int_list(20,1,50))"
   ]
  },
  {
   "cell_type": "code",
   "execution_count": 11,
   "metadata": {},
   "outputs": [
    {
     "data": {
      "text/plain": [
       "84"
      ]
     },
     "execution_count": 11,
     "metadata": {},
     "output_type": "execute_result"
    }
   ],
   "source": [
    "ran.randrange(0,100,7) #Get random numbers from 0 to 10 but only multiples of 7"
   ]
  },
  {
   "cell_type": "markdown",
   "metadata": {},
   "source": [
    "### Shuffilg\n",
    "\n",
    "This function shuffles an ordered array"
   ]
  },
  {
   "cell_type": "code",
   "execution_count": 28,
   "metadata": {},
   "outputs": [
    {
     "name": "stdout",
     "output_type": "stream",
     "text": [
      "[0, 1, 2, 3, 4, 5, 6, 7, 8, 9, 10, 11, 12, 13, 14, 15, 16, 17, 18, 19, 20, 21, 22, 23, 24, 25, 26, 27, 28, 29, 30, 31, 32, 33, 34, 35, 36, 37, 38, 39, 40, 41, 42, 43, 44, 45, 46, 47, 48, 49, 50, 51, 52, 53, 54, 55, 56, 57, 58, 59, 60, 61, 62, 63, 64, 65, 66, 67, 68, 69, 70, 71, 72, 73, 74, 75, 76, 77, 78, 79, 80, 81, 82, 83, 84, 85, 86, 87, 88, 89, 90, 91, 92, 93, 94, 95, 96, 97, 98, 99]\n"
     ]
    }
   ],
   "source": [
    "a = [i for i in range(100)]\n",
    "print(a)"
   ]
  },
  {
   "cell_type": "code",
   "execution_count": 30,
   "metadata": {},
   "outputs": [
    {
     "name": "stdout",
     "output_type": "stream",
     "text": [
      "[31, 65, 59, 20, 7, 10, 0, 4, 63, 88, 56, 27, 14, 8, 26, 1, 49, 86, 62, 15, 75, 11, 28, 35, 81, 17, 79, 94, 9, 83, 39, 93, 68, 23, 18, 22, 74, 71, 87, 41, 55, 36, 32, 44, 53, 43, 33, 46, 58, 13, 69, 95, 38, 76, 60, 85, 97, 34, 98, 61, 12, 57, 48, 77, 64, 2, 67, 80, 6, 21, 40, 54, 99, 89, 50, 45, 42, 66, 29, 37, 52, 96, 72, 16, 70, 90, 51, 91, 25, 3, 82, 84, 5, 19, 47, 92, 73, 24, 78, 30]\n"
     ]
    }
   ],
   "source": [
    "ran.shuffle(a)\n",
    "print(a)"
   ]
  },
  {
   "cell_type": "markdown",
   "metadata": {},
   "source": [
    "### Choice\n",
    "\n",
    "This function returns a random element from a list"
   ]
  },
  {
   "cell_type": "code",
   "execution_count": 35,
   "metadata": {},
   "outputs": [
    {
     "name": "stdout",
     "output_type": "stream",
     "text": [
      "[31, 65, 59, 20, 7, 10, 0, 4, 63, 88, 56, 27, 14, 8, 26, 1, 49, 86, 62, 15, 75, 11, 28, 35, 81, 17, 79, 94, 9, 83, 39, 93, 68, 23, 18, 22, 74, 71, 87, 41, 55, 36, 32, 44, 53, 43, 33, 46, 58, 13, 69, 95, 38, 76, 60, 85, 97, 34, 98, 61, 12, 57, 48, 77, 64, 2, 67, 80, 6, 21, 40, 54, 99, 89, 50, 45, 42, 66, 29, 37, 52, 96, 72, 16, 70, 90, 51, 91, 25, 3, 82, 84, 5, 19, 47, 92, 73, 24, 78, 30]\n",
      "\n",
      " Random selected :  61\n"
     ]
    }
   ],
   "source": [
    "print(a)\n",
    "print(\"\\n Random selected : \",ran.choice(a))"
   ]
  },
  {
   "cell_type": "markdown",
   "metadata": {},
   "source": [
    "### seed\n",
    "\n",
    "Generating a seed is important for the productivity of the random ex-post experiment."
   ]
  },
  {
   "cell_type": "code",
   "execution_count": 40,
   "metadata": {},
   "outputs": [
    {
     "data": {
      "text/plain": [
       "[0.8323024001314224,\n",
       " 0.7889290619064494,\n",
       " 0.9385678954207153,\n",
       " 0.16059637997392429,\n",
       " 0.6488539744120456,\n",
       " 0.8325765404421139,\n",
       " 0.9888735139157468,\n",
       " 0.9322143923769549,\n",
       " 0.7933123406870071,\n",
       " 0.9686245146163092]"
      ]
     },
     "execution_count": 40,
     "metadata": {},
     "output_type": "execute_result"
    }
   ],
   "source": [
    "ran.seed(2019)\n",
    "b = [ran.random() for i in range(10)]\n",
    "b"
   ]
  }
 ],
 "metadata": {
  "kernelspec": {
   "display_name": "Python 3",
   "language": "python",
   "name": "python3"
  },
  "language_info": {
   "codemirror_mode": {
    "name": "ipython",
    "version": 3
   },
   "file_extension": ".py",
   "mimetype": "text/x-python",
   "name": "python",
   "nbconvert_exporter": "python",
   "pygments_lexer": "ipython3",
   "version": "3.7.1"
  }
 },
 "nbformat": 4,
 "nbformat_minor": 2
}
