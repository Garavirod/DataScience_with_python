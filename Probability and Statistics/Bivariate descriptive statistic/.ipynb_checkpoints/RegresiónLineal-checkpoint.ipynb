{
 "cells": [
  {
   "cell_type": "markdown",
   "metadata": {},
   "source": [
    "# Regresión lineal"
   ]
  },
  {
   "cell_type": "markdown",
   "metadata": {},
   "source": [
    "1. **Nos srive principalmente para poder estimar una variable con respecto a la otra, es la que mejor se ajusta a la nube de puntos.**\n",
    "\n",
    "2. **Regresión lineal. Permite determinar el grado de dependencia de las series de valores X e Y, prediciendo el valor y estimado que se obtendría para un valor x que no esté en la distribución.**\n",
    "\n",
    "3. **Permite predecir el comportamiento de un determinado fenómeno ya que aproxima de manera eficiente una cierta cantidad de datos**\n",
    "\n",
    "4. **Algoritmo supervisado predictivo de *data Mining* puesto que las varibales son numéricas**\n",
    "\n",
    "5. **La varibale que queremos pronosticar es la variable dependiente y da lugar a una divisón adicional**\n",
    "\n",
    "6. **Sirve para hacer predicciones como las siguientes:**\n",
    "\n",
    " $$ Altura hijo = 23.94 + 0.64*Altura Padre $$\n",
    " \n",
    " *23.94 y 0.64 son los coeficientes que el programa van a estimar por mí cuando se le entregue un dataframe*\n",
    "\n",
    "### Regresipon lineal simple:\n",
    "\n",
    "La regresión lineal simple se basa en estudiar los cambios en una variable, no aleatoria, afectan a una variable aleatoria, en el caso de existir una relación funcional entre ambas variables que puede ser establecida por una expresión lineal, es decir, su representación gráfica es una línea recta. Es decir, se esta en presencia de una regresión lineal simple cuando una variable independiente ejerce influencia sobre otra variable dependiente.\n",
    "\n",
    "$$ y = f(x) $$\n",
    "\n",
    "### Recta de regresión de Y sobre X:\n",
    "\n",
    "La recta de regresiń de Y sobre X se utiliza oara estimar los valores de la Y a partir de los de X, por ello se le llamará a la varibale Y varibale dependiente.&nbsp;\n",
    "\n",
    "&nbsp;\n",
    "La **pendiente** de la recta es el cociente entre la covarianza la varianza de la variable **X**\n",
    "$$ y - \\bar{y} = \\frac{S_{XY}}{S_{X}^2} * (x - \\bar{x}) $$\n",
    "\n",
    "$$ y  = (\\frac{S_{XY}}{S_{X}^2})x - [(\\frac{S_{XY}}{S_{X}^2})\\bar{x} + \\bar{y}]$$\n",
    "\n",
    "\n",
    "\n",
    "### Recta de regresión de X sobre Y:\n",
    "\n",
    "La recta de regresiń de X sobre Y se utiliza oara estimar los valores de la X a partir de los de Y, por ello se le llamará a la varibale X varibale dependiente.&nbsp;\n",
    "\n",
    "&nbsp;\n",
    "La **pendiente** de la recta es el cociente entre la covarianza la varianza de la variable **Y**\n",
    "$$ x - \\bar{x} = \\frac{S_{XY}}{S_{Y}^2} * (y - \\bar{y}) $$\n",
    "\n",
    "$$ x  = (\\frac{S_{XY}}{S_{Y}^2})y - [(\\frac{S_{XY}}{S_{Y}^2})\\bar{y} + \\bar{x}]$$\n",
    "\n",
    "Lo que queremos es hallar una simple recta de la froma:\n",
    "\n",
    "$$ y = mx + b $$\n",
    " "
   ]
  },
  {
   "cell_type": "markdown",
   "metadata": {},
   "source": [
    "## Ejemplo para datos no agrupados"
   ]
  },
  {
   "cell_type": "code",
   "execution_count": 1,
   "metadata": {},
   "outputs": [],
   "source": [
    "import pandas as pd\n",
    "import statistics as sts\n",
    "import numpy as np\n",
    "import matplotlib.pyplot as plt\n",
    "import math"
   ]
  },
  {
   "cell_type": "code",
   "execution_count": 2,
   "metadata": {},
   "outputs": [],
   "source": [
    "dataFrame = pd.DataFrame({\n",
    "    \"Math\":[2,3,4,4,5,6,6,7,7,8,10,10],\n",
    "    \"Physic\":[1,3,2,4,4,4,6,4,6,7,9,10]\n",
    "}) "
   ]
  },
  {
   "cell_type": "markdown",
   "metadata": {},
   "source": [
    "**Hallar la recta de regresión lineal de Y sobre X y la de X sobre Y dados los siguientes datos**"
   ]
  },
  {
   "cell_type": "code",
   "execution_count": 4,
   "metadata": {},
   "outputs": [
    {
     "data": {
      "text/html": [
       "<div>\n",
       "<style scoped>\n",
       "    .dataframe tbody tr th:only-of-type {\n",
       "        vertical-align: middle;\n",
       "    }\n",
       "\n",
       "    .dataframe tbody tr th {\n",
       "        vertical-align: top;\n",
       "    }\n",
       "\n",
       "    .dataframe thead th {\n",
       "        text-align: right;\n",
       "    }\n",
       "</style>\n",
       "<table border=\"1\" class=\"dataframe\">\n",
       "  <thead>\n",
       "    <tr style=\"text-align: right;\">\n",
       "      <th></th>\n",
       "      <th>Math</th>\n",
       "      <th>Physic</th>\n",
       "    </tr>\n",
       "  </thead>\n",
       "  <tbody>\n",
       "    <tr>\n",
       "      <th>0</th>\n",
       "      <td>2</td>\n",
       "      <td>1</td>\n",
       "    </tr>\n",
       "    <tr>\n",
       "      <th>1</th>\n",
       "      <td>3</td>\n",
       "      <td>3</td>\n",
       "    </tr>\n",
       "    <tr>\n",
       "      <th>2</th>\n",
       "      <td>4</td>\n",
       "      <td>2</td>\n",
       "    </tr>\n",
       "    <tr>\n",
       "      <th>3</th>\n",
       "      <td>4</td>\n",
       "      <td>4</td>\n",
       "    </tr>\n",
       "    <tr>\n",
       "      <th>4</th>\n",
       "      <td>5</td>\n",
       "      <td>4</td>\n",
       "    </tr>\n",
       "    <tr>\n",
       "      <th>5</th>\n",
       "      <td>6</td>\n",
       "      <td>4</td>\n",
       "    </tr>\n",
       "    <tr>\n",
       "      <th>6</th>\n",
       "      <td>6</td>\n",
       "      <td>6</td>\n",
       "    </tr>\n",
       "    <tr>\n",
       "      <th>7</th>\n",
       "      <td>7</td>\n",
       "      <td>4</td>\n",
       "    </tr>\n",
       "    <tr>\n",
       "      <th>8</th>\n",
       "      <td>7</td>\n",
       "      <td>6</td>\n",
       "    </tr>\n",
       "    <tr>\n",
       "      <th>9</th>\n",
       "      <td>8</td>\n",
       "      <td>7</td>\n",
       "    </tr>\n",
       "    <tr>\n",
       "      <th>10</th>\n",
       "      <td>10</td>\n",
       "      <td>9</td>\n",
       "    </tr>\n",
       "    <tr>\n",
       "      <th>11</th>\n",
       "      <td>10</td>\n",
       "      <td>10</td>\n",
       "    </tr>\n",
       "  </tbody>\n",
       "</table>\n",
       "</div>"
      ],
      "text/plain": [
       "    Math  Physic\n",
       "0      2       1\n",
       "1      3       3\n",
       "2      4       2\n",
       "3      4       4\n",
       "4      5       4\n",
       "5      6       4\n",
       "6      6       6\n",
       "7      7       4\n",
       "8      7       6\n",
       "9      8       7\n",
       "10    10       9\n",
       "11    10      10"
      ]
     },
     "execution_count": 4,
     "metadata": {},
     "output_type": "execute_result"
    }
   ],
   "source": [
    "dataFrame"
   ]
  },
  {
   "cell_type": "markdown",
   "metadata": {},
   "source": [
    "**Obtenemos las medias de cada una de las variables X e Y**\n",
    "\n",
    "$$ \\bar{x} = \\frac{1}{n} = \\displaystyle\\sum_{i=1}^n x_{i} $$\n",
    "\n",
    "\n",
    "$$ \\bar{y} = \\frac{1}{n} = \\displaystyle\\sum_{i=1}^n y_{i} $$"
   ]
  },
  {
   "cell_type": "code",
   "execution_count": 3,
   "metadata": {},
   "outputs": [
    {
     "name": "stdout",
     "output_type": "stream",
     "text": [
      "mean of x =  6\n",
      "mean of y =  5\n"
     ]
    }
   ],
   "source": [
    "x_bar = sts.mean(dataFrame.Math)\n",
    "y_bar = sts.mean(dataFrame.Physic)\n",
    "print(\"mean of x = \",x_bar)\n",
    "print(\"mean of y = \",y_bar)"
   ]
  },
  {
   "cell_type": "markdown",
   "metadata": {},
   "source": [
    "**Obtenemos la covarianza de ambas variables**\n",
    "\n",
    "$$ S_{XY} = (\\frac{\\sum_{i=1}^n x_{i}y_{i}}{n})-\\bar{x}\\bar{y} $$"
   ]
  },
  {
   "cell_type": "code",
   "execution_count": 4,
   "metadata": {},
   "outputs": [
    {
     "name": "stdout",
     "output_type": "stream",
     "text": [
      "Cov(x,y) =  5.916666666666664\n"
     ]
    }
   ],
   "source": [
    "def cov(x,y,x_bar,y_bar):\n",
    "    count = sum([i*j for i,j in zip(x,y)])    \n",
    "    return (count/len(x)) - (x_bar*y_bar)\n",
    "\n",
    "cov_xy = cov(dataFrame[\"Math\"].values,dataFrame[\"Physic\"].values,x_bar,y_bar)\n",
    "\n",
    "print(\"Cov(x,y) = \",cov_xy)"
   ]
  },
  {
   "cell_type": "markdown",
   "metadata": {},
   "source": [
    "**Hallamos la varianza de cada una de las variables**\n",
    "\n",
    "$$ S^2_{X} = \\frac{\\sum_{i=1}^n x_{i}^2}{n}-\\bar{x}^2 $$\n",
    "\n",
    "$$ S^2_{Y} = \\frac{\\sum_{i=1}^n y_{i}^2}{n}-\\bar{y}^2 $$"
   ]
  },
  {
   "cell_type": "code",
   "execution_count": 5,
   "metadata": {},
   "outputs": [
    {
     "name": "stdout",
     "output_type": "stream",
     "text": [
      "var x =  6.0\n"
     ]
    }
   ],
   "source": [
    "def var(v,mean):\n",
    "    count = sum([i*j for i,j in zip(v,v)])\n",
    "    return (count/len(v)) - (mean*mean)\n",
    "sx = var(dataFrame[\"Math\"].values,x_bar)\n",
    "print(\"var x = \",sx)"
   ]
  },
  {
   "cell_type": "code",
   "execution_count": 6,
   "metadata": {},
   "outputs": [
    {
     "name": "stdout",
     "output_type": "stream",
     "text": [
      "var y =  6.666666666666668\n"
     ]
    }
   ],
   "source": [
    "sy = var(dataFrame[\"Physic\"].values,y_bar)\n",
    "print(\"var y = \",sy)"
   ]
  },
  {
   "cell_type": "markdown",
   "metadata": {},
   "source": [
    "**sumary de los datos hallados**"
   ]
  },
  {
   "cell_type": "code",
   "execution_count": 7,
   "metadata": {},
   "outputs": [
    {
     "name": "stdout",
     "output_type": "stream",
     "text": [
      "x_bar =  6\n",
      "y_bar =  5\n",
      "cov(X,Y) =  5.916666666666664\n",
      "var x =  6.0\n",
      "var y =  6.666666666666668\n",
      "y = mx + b; donde: \n",
      "y =0.8874999999999995x  1.5625000000000027\n"
     ]
    }
   ],
   "source": [
    "print(\"x_bar = \",x_bar)\n",
    "print(\"y_bar = \",y_bar)\n",
    "print(\"cov(X,Y) = \",cov_xy)\n",
    "print(\"var x = \",sx)\n",
    "print(\"var y = \",sy)\n",
    "m1 = cov_xy/sx\n",
    "b1 = -(m1*x_bar)+y_bar\n",
    "\n",
    "m2 =cov_xy/sy\n",
    "b2 = -(m2*y_bar)+x_bar\n",
    "\n",
    "print (\"y = mx + b; donde: \")\n",
    "print (\"y ={}x  {}\".format(m2,b2))"
   ]
  },
  {
   "cell_type": "markdown",
   "metadata": {},
   "source": [
    "**Dibujamos el scatter plot para la variable X**"
   ]
  },
  {
   "cell_type": "code",
   "execution_count": 8,
   "metadata": {},
   "outputs": [
    {
     "data": {
      "image/png": "[encoded data removed]",
      "text/plain": [
       "<Figure size 432x288 with 1 Axes>"
      ]
     },
     "metadata": {
      "needs_background": "light"
     },
     "output_type": "display_data"
    }
   ],
   "source": [
    "%matplotlib inline\n",
    "dataFrame.plot(kind=\"scatter\",x=\"Math\", y=\"Physic\", label=\"Data\")\n",
    "plt.plot(dataFrame.Math,m1*dataFrame.Math+(b1), label=\"Ajuste\", color=\"red\")\n",
    "plt.title(\"Recta de regresión de X sobre Y\")\n",
    "plt.legend()\n",
    "plt.grid()"
   ]
  },
  {
   "cell_type": "markdown",
   "metadata": {},
   "source": [
    "**Dibujamos el scatter plot para la variable Y**"
   ]
  },
  {
   "cell_type": "code",
   "execution_count": 9,
   "metadata": {},
   "outputs": [
    {
     "data": {
      "image/png": "[encoded data removed]",
      "text/plain": [
       "<Figure size 432x288 with 1 Axes>"
      ]
     },
     "metadata": {
      "needs_background": "light"
     },
     "output_type": "display_data"
    }
   ],
   "source": [
    "%matplotlib inline\n",
    "dataFrame.plot(kind=\"scatter\",x=\"Physic\", y=\"Math\", label=\"Data\")\n",
    "plt.plot(dataFrame.Physic,m2*dataFrame.Physic+(b2), label=\"Ajuste\", color=\"lime\")\n",
    "plt.title(\"Recta de regresión de Y sobre X\")\n",
    "plt.legend()\n",
    "plt.grid()"
   ]
  },
  {
   "cell_type": "markdown",
   "metadata": {},
   "source": [
    "## Coeficiente de determinación"
   ]
  },
  {
   "cell_type": "markdown",
   "metadata": {},
   "source": [
    "Una medida de cuán bueno es el modelo de regresión es el siguiente: &nbsp;\n",
    "\n",
    "$$ R^2 = (r_{XY})^2 = (\\frac{S_{XY}}{S_{X}S_{Y}})^2$$\n",
    "\n",
    "Es el cuadrado del**coeficiente de correlación lineal de Pearson** &nbsp;\n",
    "Si se esxpresa en % quiere decir que el modelo explica ese % de la variabliidad de la variable dependiente en función de l varibale independiente.&nbsp;\n",
    "**Desamos que sea alta**."
   ]
  },
  {
   "cell_type": "markdown",
   "metadata": {},
   "source": [
    "**Hallamos el coeficiente de determinación**"
   ]
  },
  {
   "cell_type": "code",
   "execution_count": 10,
   "metadata": {},
   "outputs": [
    {
     "name": "stdout",
     "output_type": "stream",
     "text": [
      "R^2 = 87.51736111111103 %\n"
     ]
    }
   ],
   "source": [
    "R2 = (cov_xy/(math.sqrt(sx)*math.sqrt(sy)))**2\n",
    "print(\"R^2 = {} %\".format(R2*100))"
   ]
  },
  {
   "cell_type": "markdown",
   "metadata": {},
   "source": [
    "El coeficiiente es alto, por lo tanto es un buen modelo."
   ]
  }
 ],
 "metadata": {
  "kernelspec": {
   "display_name": "Python 3",
   "language": "python",
   "name": "python3"
  },
  "language_info": {
   "codemirror_mode": {
    "name": "ipython",
    "version": 3
   },
   "file_extension": ".py",
   "mimetype": "text/x-python",
   "name": "python",
   "nbconvert_exporter": "python",
   "pygments_lexer": "ipython3",
   "version": "3.7.1"
  }
 },
 "nbformat": 4,
 "nbformat_minor": 2
}
