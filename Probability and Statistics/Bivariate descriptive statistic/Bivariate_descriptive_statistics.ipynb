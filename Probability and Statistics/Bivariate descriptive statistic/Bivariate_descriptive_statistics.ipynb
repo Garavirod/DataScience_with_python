{
 "cells": [
  {
   "cell_type": "markdown",
   "metadata": {},
   "source": [
    "# Bivariate descriptive statistics"
   ]
  },
  {
   "cell_type": "markdown",
   "metadata": {},
   "source": [
    "### Dimentional variable or bivariate variable.\n",
    "\n",
    "A varible bivariate is each element thta is defined by characteristic $ (x,y) $, these are __random variables__\n",
    ",if exist relation between them, some of them is the *independent variable* and the oether is *the dependent variable*."
   ]
  },
  {
   "cell_type": "code",
   "execution_count": 81,
   "metadata": {},
   "outputs": [],
   "source": [
    "import pandas as pd\n",
    "import matplotlib.pyplot as plt\n",
    "import numpy as np\n",
    "from math import ceil"
   ]
  },
  {
   "cell_type": "code",
   "execution_count": 9,
   "metadata": {},
   "outputs": [],
   "source": [
    "gender = [\"F\" for i in range(5)] + [\"M\" for i in range(15)]\n",
    "category = [\"MSc\" for i in range(4)] +[\"PhD\"]+ [\"MSc\" for i in range(9)]+[\"PhD\" for i in range(6)]\n",
    "dta = pd.DataFrame({\n",
    "    \"Gender\":gender,\n",
    "    \"Category\":category\n",
    "})"
   ]
  },
  {
   "cell_type": "code",
   "execution_count": 11,
   "metadata": {},
   "outputs": [
    {
     "data": {
      "text/html": [
       "<div>\n",
       "<style scoped>\n",
       "    .dataframe tbody tr th:only-of-type {\n",
       "        vertical-align: middle;\n",
       "    }\n",
       "\n",
       "    .dataframe tbody tr th {\n",
       "        vertical-align: top;\n",
       "    }\n",
       "\n",
       "    .dataframe thead th {\n",
       "        text-align: right;\n",
       "    }\n",
       "</style>\n",
       "<table border=\"1\" class=\"dataframe\">\n",
       "  <thead>\n",
       "    <tr style=\"text-align: right;\">\n",
       "      <th></th>\n",
       "      <th>Gender</th>\n",
       "      <th>Category</th>\n",
       "    </tr>\n",
       "  </thead>\n",
       "  <tbody>\n",
       "    <tr>\n",
       "      <th>0</th>\n",
       "      <td>F</td>\n",
       "      <td>MSc</td>\n",
       "    </tr>\n",
       "    <tr>\n",
       "      <th>1</th>\n",
       "      <td>F</td>\n",
       "      <td>MSc</td>\n",
       "    </tr>\n",
       "    <tr>\n",
       "      <th>2</th>\n",
       "      <td>F</td>\n",
       "      <td>MSc</td>\n",
       "    </tr>\n",
       "    <tr>\n",
       "      <th>3</th>\n",
       "      <td>F</td>\n",
       "      <td>MSc</td>\n",
       "    </tr>\n",
       "    <tr>\n",
       "      <th>4</th>\n",
       "      <td>F</td>\n",
       "      <td>PhD</td>\n",
       "    </tr>\n",
       "    <tr>\n",
       "      <th>5</th>\n",
       "      <td>M</td>\n",
       "      <td>MSc</td>\n",
       "    </tr>\n",
       "    <tr>\n",
       "      <th>6</th>\n",
       "      <td>M</td>\n",
       "      <td>MSc</td>\n",
       "    </tr>\n",
       "    <tr>\n",
       "      <th>7</th>\n",
       "      <td>M</td>\n",
       "      <td>MSc</td>\n",
       "    </tr>\n",
       "    <tr>\n",
       "      <th>8</th>\n",
       "      <td>M</td>\n",
       "      <td>MSc</td>\n",
       "    </tr>\n",
       "    <tr>\n",
       "      <th>9</th>\n",
       "      <td>M</td>\n",
       "      <td>MSc</td>\n",
       "    </tr>\n",
       "    <tr>\n",
       "      <th>10</th>\n",
       "      <td>M</td>\n",
       "      <td>MSc</td>\n",
       "    </tr>\n",
       "    <tr>\n",
       "      <th>11</th>\n",
       "      <td>M</td>\n",
       "      <td>MSc</td>\n",
       "    </tr>\n",
       "    <tr>\n",
       "      <th>12</th>\n",
       "      <td>M</td>\n",
       "      <td>MSc</td>\n",
       "    </tr>\n",
       "    <tr>\n",
       "      <th>13</th>\n",
       "      <td>M</td>\n",
       "      <td>MSc</td>\n",
       "    </tr>\n",
       "    <tr>\n",
       "      <th>14</th>\n",
       "      <td>M</td>\n",
       "      <td>PhD</td>\n",
       "    </tr>\n",
       "    <tr>\n",
       "      <th>15</th>\n",
       "      <td>M</td>\n",
       "      <td>PhD</td>\n",
       "    </tr>\n",
       "    <tr>\n",
       "      <th>16</th>\n",
       "      <td>M</td>\n",
       "      <td>PhD</td>\n",
       "    </tr>\n",
       "    <tr>\n",
       "      <th>17</th>\n",
       "      <td>M</td>\n",
       "      <td>PhD</td>\n",
       "    </tr>\n",
       "    <tr>\n",
       "      <th>18</th>\n",
       "      <td>M</td>\n",
       "      <td>PhD</td>\n",
       "    </tr>\n",
       "    <tr>\n",
       "      <th>19</th>\n",
       "      <td>M</td>\n",
       "      <td>PhD</td>\n",
       "    </tr>\n",
       "  </tbody>\n",
       "</table>\n",
       "</div>"
      ],
      "text/plain": [
       "   Gender Category\n",
       "0       F      MSc\n",
       "1       F      MSc\n",
       "2       F      MSc\n",
       "3       F      MSc\n",
       "4       F      PhD\n",
       "5       M      MSc\n",
       "6       M      MSc\n",
       "7       M      MSc\n",
       "8       M      MSc\n",
       "9       M      MSc\n",
       "10      M      MSc\n",
       "11      M      MSc\n",
       "12      M      MSc\n",
       "13      M      MSc\n",
       "14      M      PhD\n",
       "15      M      PhD\n",
       "16      M      PhD\n",
       "17      M      PhD\n",
       "18      M      PhD\n",
       "19      M      PhD"
      ]
     },
     "execution_count": 11,
     "metadata": {},
     "output_type": "execute_result"
    }
   ],
   "source": [
    "dta"
   ]
  },
  {
   "cell_type": "markdown",
   "metadata": {},
   "source": [
    "### Double entry table"
   ]
  },
  {
   "cell_type": "code",
   "execution_count": 94,
   "metadata": {},
   "outputs": [],
   "source": [
    "def DoubleEntryTable(dataframe,entryA,entryB,catNameA,catNameB):\n",
    "    info_entry_outs = list()\n",
    "    for x in entryA:\n",
    "        out_A = list()\n",
    "        print(\"---- ENTRY A ----- [{}]\\n\".format(x))\n",
    "        for y in entryB:\n",
    "            out = dataframe[(dataframe[catNameA]==x) & (dataframe[catNameB]==y)]\n",
    "            print(out)\n",
    "            print(\"\\nTotal category {}:  {}\\n\".format(y,len(out)))\n",
    "            out_A.append(len(out))\n",
    "        print(\"\\nTotal:  {}\\n\".format(sum(out_A)))\n",
    "        info_entry_outs.append(out_A)\n",
    "    return info_entry_outs"
   ]
  },
  {
   "cell_type": "code",
   "execution_count": 95,
   "metadata": {},
   "outputs": [
    {
     "name": "stdout",
     "output_type": "stream",
     "text": [
      "---- ENTRY A ----- [F]\n",
      "\n",
      "  Gender Category\n",
      "4      F      PhD\n",
      "\n",
      "Total category PhD:  1\n",
      "\n",
      "  Gender Category\n",
      "0      F      MSc\n",
      "1      F      MSc\n",
      "2      F      MSc\n",
      "3      F      MSc\n",
      "\n",
      "Total category MSc:  4\n",
      "\n",
      "\n",
      "Total:  5\n",
      "\n",
      "---- ENTRY A ----- [M]\n",
      "\n",
      "   Gender Category\n",
      "14      M      PhD\n",
      "15      M      PhD\n",
      "16      M      PhD\n",
      "17      M      PhD\n",
      "18      M      PhD\n",
      "19      M      PhD\n",
      "\n",
      "Total category PhD:  6\n",
      "\n",
      "   Gender Category\n",
      "5       M      MSc\n",
      "6       M      MSc\n",
      "7       M      MSc\n",
      "8       M      MSc\n",
      "9       M      MSc\n",
      "10      M      MSc\n",
      "11      M      MSc\n",
      "12      M      MSc\n",
      "13      M      MSc\n",
      "\n",
      "Total category MSc:  9\n",
      "\n",
      "\n",
      "Total:  15\n",
      "\n"
     ]
    }
   ],
   "source": [
    "eA = set(dta[\"Gender\"])\n",
    "eB = set(dta[\"Category\"])\n",
    "outs = DoubleEntryTable(dta,eA,eB,\"Gender\",\"Category\")"
   ]
  },
  {
   "cell_type": "markdown",
   "metadata": {},
   "source": [
    "### Bar chart"
   ]
  },
  {
   "cell_type": "code",
   "execution_count": 107,
   "metadata": {},
   "outputs": [
    {
     "data": {
      "text/plain": [
       "<matplotlib.legend.Legend at 0x7efd04e986a0>"
      ]
     },
     "execution_count": 107,
     "metadata": {},
     "output_type": "execute_result"
    },
    {
     "data": {
      "image/png": "[encoded data removed]",
      "text/plain": [
       "<Figure size 720x720 with 1 Axes>"
      ]
     },
     "metadata": {
      "needs_background": "light"
     },
     "output_type": "display_data"
    }
   ],
   "source": [
    "#Duble entry table's outs\n",
    "gender_f = outs[0]\n",
    "gender_m = outs[1]\n",
    "\n",
    "barwidth = 0.30\n",
    "\n",
    "#aumentar la tabla para tener una mejor visión de la información.\n",
    "plt.figure(figsize=(10,10))\n",
    "\n",
    "\"\"\"\n",
    "first check the width of the first bar\n",
    "and then incrementally position the others,\n",
    "by the reference of the widths of the previous ones.\n",
    "\"\"\"\n",
    "r1 = np.arange(len(gender_f))\n",
    "r2 = [x + barwidth for x in r1]\n",
    "\n",
    "#Print the bar with its characteristics\n",
    "\n",
    "plt.bar(r1,gender_f,color=\"#C34B95\",width=barwidth, label=\"F\")\n",
    "plt.bar(r2,gender_m,color=\"#4B6DC3\",width=barwidth, label=\"M\")\n",
    "\n",
    "\"\"\"\n",
    "Tags are added on the X axis, in this type of graph there is a particularity,\n",
    "there is a loop that distributes the subtitles uniformly in each of the groups.\n",
    "\"\"\"\n",
    "\n",
    "plt.xticks([r+barwidth for r in range(len(gender_m))],list(eB))\n",
    "\n",
    "#Labels\n",
    "plt.ylabel(\"Absolut Frequncy\")\n",
    "plt.xlabel(\"Entry B (Category)\")\n",
    "\n",
    "#Bar chart's legend\n",
    "plt.legend()"
   ]
  },
  {
   "cell_type": "markdown",
   "metadata": {},
   "source": [
    "### What's the percentage of students (boys) who are doing a master in MSc?"
   ]
  },
  {
   "cell_type": "code",
   "execution_count": 83,
   "metadata": {},
   "outputs": [
    {
     "name": "stdout",
     "output_type": "stream",
     "text": [
      "Solution : 45%\n"
     ]
    }
   ],
   "source": [
    "sol1 = len(dta[(dta[\"Gender\"]==\"M\") & (dta[\"Category\"]==\"MSc\")])/len(dta)\n",
    "sol1 = ceil(sol1*100)\n",
    "print(\"Solution : {}%\".format(sol1))"
   ]
  },
  {
   "cell_type": "markdown",
   "metadata": {},
   "source": [
    "### Marginal frequencies\n",
    "\n",
    "In a __two-dimensional__ distribution of variables, __*the number of times that a value of one variable repeats itself*__, independently of the behavior of the other variable."
   ]
  },
  {
   "cell_type": "code",
   "execution_count": 99,
   "metadata": {},
   "outputs": [],
   "source": [
    "#Of all the girls, how many of them are doing a master?\n",
    "nfm = len(dta[(dta[\"Gender\"]==\"F\") & (dta[\"Category\"]==\"MSc\")])\n",
    "#Of all the boys, how many of them are doing a master?\n",
    "nmm = len(dta[(dta[\"Gender\"]==\"M\") & (dta[\"Category\"]==\"MSc\")])\n",
    "#Of all the girls, how many of them are doing a PhD?\n",
    "nfd = len(dta[(dta[\"Gender\"]==\"F\") & (dta[\"Category\"]==\"PhD\")])\n",
    "#Of all the boys, how many of them are doing a PhD?\n",
    "nmd = len(dta[(dta[\"Gender\"]==\"M\") & (dta[\"Category\"]==\"PhD\")])"
   ]
  },
  {
   "cell_type": "markdown",
   "metadata": {},
   "source": [
    "#### Of all the girls,What's the percentage of them who are doing a master?"
   ]
  },
  {
   "cell_type": "code",
   "execution_count": 131,
   "metadata": {},
   "outputs": [
    {
     "name": "stdout",
     "output_type": "stream",
     "text": [
      "Solution : 80%\n"
     ]
    }
   ],
   "source": [
    "percent_wm = nfm/sum(gender_f)\n",
    "percent_wm = ceil(percent_wm*100)\n",
    "percent_wd = 100-percent_wm #The rest of girls\n",
    "print(\"Solution : {}%\".format(percent_wm))"
   ]
  },
  {
   "cell_type": "markdown",
   "metadata": {},
   "source": [
    "#### Of all the boys,What's the percentage of them who are doing a PhD?"
   ]
  },
  {
   "cell_type": "code",
   "execution_count": 132,
   "metadata": {},
   "outputs": [
    {
     "name": "stdout",
     "output_type": "stream",
     "text": [
      "Solution : 40%\n"
     ]
    }
   ],
   "source": [
    "percent_md = nmd/sum(gender_m)\n",
    "percent_md = ceil(percent_md*100)\n",
    "percent_mm = 100-percent_md #the rest of boys\n",
    "print(\"Solution : {}%\".format(percent_md))"
   ]
  },
  {
   "cell_type": "markdown",
   "metadata": {},
   "source": [
    "### Percentage distribution of students according to category by gender."
   ]
  },
  {
   "cell_type": "code",
   "execution_count": 212,
   "metadata": {},
   "outputs": [
    {
     "data": {
      "text/plain": [
       "<matplotlib.legend.Legend at 0x7efd052088d0>"
      ]
     },
     "execution_count": 212,
     "metadata": {},
     "output_type": "execute_result"
    },
    {
     "data": {
      "image/png": "[encoded data removed]",
      "text/plain": [
       "<Figure size 720x720 with 1 Axes>"
      ]
     },
     "metadata": {
      "needs_background": "light"
     },
     "output_type": "display_data"
    }
   ],
   "source": [
    "stud_msc = [percent_wm,percent_mm]\n",
    "stud_phd = [percent_wd,percent_md]\n",
    "\n",
    "#sintax \n",
    "\"\"\"\n",
    "bar_A = [x1,x2]\n",
    "bar_B = [y1,y2]\n",
    "\n",
    "bottom = y2\n",
    "\n",
    "|\n",
    "|\n",
    "| x1  x2\n",
    "| y2  y2\n",
    "|-----------\n",
    "\n",
    "\"\"\"\n",
    "\n",
    "#legends list\n",
    "legends = [\"MSc\",\"PhD\"]\n",
    "\n",
    "#Gender\n",
    "genders = [\"WOMEN\",\"MEN\"]\n",
    "\n",
    "plt.figure(figsize=(10,10))\n",
    "\n",
    "#Pint bars\n",
    "plt.bar(genders,stud_msc,color=\"#3BB07B\")\n",
    "plt.bar(genders,stud_phd,color=\"#C27C47\", bottom=stud_msc)\n",
    "\n",
    "#Labels and legens\n",
    "plt.ylabel(\"Perecentage %\")\n",
    "plt.title(\"Percentage distribution of students according to category by gender.\")\n",
    "plt.legend(legends)"
   ]
  },
  {
   "cell_type": "markdown",
   "metadata": {},
   "source": [
    "### Of all master students, how many of them are girls?"
   ]
  },
  {
   "cell_type": "code",
   "execution_count": 175,
   "metadata": {},
   "outputs": [
    {
     "name": "stdout",
     "output_type": "stream",
     "text": [
      "Solution: 31%\n"
     ]
    },
    {
     "data": {
      "text/plain": [
       "69"
      ]
     },
     "execution_count": 175,
     "metadata": {},
     "output_type": "execute_result"
    }
   ],
   "source": [
    "#Students who are doing a master MSc\n",
    "master_stud = len(dta[dta[\"Category\"]==\"MSc\"])\n",
    "#Women who are doing a master MSc \n",
    "per_master_girl_stud = ceil((nfm/master_stud)*100)\n",
    "per_master_boy_stud = 100 - per_master_girl_stud\n",
    "print(\"Solution: {}%\".format(per_master_girl_stud))\n",
    "per_master_boy_stud"
   ]
  },
  {
   "cell_type": "markdown",
   "metadata": {},
   "source": [
    "### Of all PhD students, how many of them are girls?"
   ]
  },
  {
   "cell_type": "code",
   "execution_count": 176,
   "metadata": {},
   "outputs": [
    {
     "name": "stdout",
     "output_type": "stream",
     "text": [
      "Solution: 15%\n"
     ]
    },
    {
     "data": {
      "text/plain": [
       "85"
      ]
     },
     "execution_count": 176,
     "metadata": {},
     "output_type": "execute_result"
    }
   ],
   "source": [
    "#Students who are doing a PhD\n",
    "phd_stud = len(dta[dta[\"Category\"]==\"PhD\"])\n",
    "#Women who are doing a PhD\n",
    "per_phd_girl_stud = ceil((nfd/phd_stud)*100)\n",
    "per_phd_boy_stud = 100 - per_phd_girl_stud\n",
    "print(\"Solution: {}%\".format(per_phd_girl_stud))\n",
    "per_phd_boy_stud"
   ]
  },
  {
   "cell_type": "markdown",
   "metadata": {},
   "source": []
  },
  {
   "cell_type": "code",
   "execution_count": 199,
   "metadata": {},
   "outputs": [
    {
     "data": {
      "text/plain": [
       "<matplotlib.legend.Legend at 0x7efd03d867f0>"
      ]
     },
     "execution_count": 199,
     "metadata": {},
     "output_type": "execute_result"
    },
    {
     "data": {
      "image/png": "[encoded data removed]",
      "text/plain": [
       "<Figure size 720x720 with 1 Axes>"
      ]
     },
     "metadata": {
      "needs_background": "light"
     },
     "output_type": "display_data"
    }
   ],
   "source": [
    "men = [per_master_boy_stud,per_phd_boy_stud]\n",
    "women = [per_master_girl_stud,per_phd_girl_stud]\n",
    "\n",
    "\n",
    "#legends list\n",
    "legends = [\"F\",\"M\"]\n",
    "\n",
    "#Gender\n",
    "category = [\"MSc\",\"PhD\"]\n",
    "\n",
    "plt.figure(figsize=(10,10))\n",
    "\n",
    "#Pint bars\n",
    "plt.bar(category,women,color=\"#4B6DC3\")\n",
    "plt.bar(category,men,color=\"#C34B95\", bottom=women)\n",
    "\n",
    "#Labels and legens\n",
    "plt.ylabel(\"Perecentage %\")\n",
    "plt.xlabel(\"Category\")\n",
    "plt.title(\"Percentage distribution of students according to category by gender.\")\n",
    "plt.legend(legends)"
   ]
  }
 ],
 "metadata": {
  "kernelspec": {
   "display_name": "Python 3",
   "language": "python",
   "name": "python3"
  },
  "language_info": {
   "codemirror_mode": {
    "name": "ipython",
    "version": 3
   },
   "file_extension": ".py",
   "mimetype": "text/x-python",
   "name": "python",
   "nbconvert_exporter": "python",
   "pygments_lexer": "ipython3",
   "version": "3.7.1"
  }
 },
 "nbformat": 4,
 "nbformat_minor": 2
}
