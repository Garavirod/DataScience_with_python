{
 "cells": [
  {
   "cell_type": "markdown",
   "metadata": {},
   "source": [
    "# Problema 2 - Varianza y covarianza"
   ]
  },
  {
   "cell_type": "markdown",
   "metadata": {},
   "source": [
    "#### Varianza:\n",
    "\n",
    "La varianza es una medida de dispersión que representa la variabilidad de una serie de datos respecto a su media. Formalmente se calcula como la suma de las residuos al cuadrado divididos entre el total de observaciones.\n",
    "\n",
    "___Medida de dsipersion de que calcula las desviaciones (dispersión de los datos) con respeto a su media.___\n",
    "\n",
    "\n",
    "\n",
    "La unidad de medida de la varianza será siempre la unidad de medida correspondiente a los datos pero elevada al cuadrado. La varianza siempre es mayor o igual que cero. Al elevarse los residuos al cuadrado es matemáticamente imposible que la varianza salga negativa. Y de esa forma no puede ser menor que cero.\n",
    "\n",
    "\n",
    "$ Var(x,y) = \\mu_{xy}^2 = \\frac{\\displaystyle\\sum_{k=1}^N (x_{k} -\\bar{x})^2}{n} $\n",
    "\n",
    "#### Desviación estándar\n",
    "\n",
    "Magnitud de la disperción de las variables dentro de un intervalo de razon.\n",
    "\n",
    "\n",
    "$ \\mu_{xy} =\\sqrt{\\frac{\\displaystyle\\sum_{k=1}^N (x_{k} -\\bar{x})^2}{n}} $\n",
    "#### ¿Por qué se elevan al cuadrado los residuos?\n",
    "\n",
    "La razón por la que los residuos se elevan al cuadrado se sencilla. Si no se elevasen al cuadrado, la suma de residuos sería cero. Es una propiedad de los residuos. Así pues para evitarlo, tal como ocurre con la desviación típica se elevan al cuadrado. El resultado es la unidad de medida en la que se miden los datos pero elevada al cuadrado. Por ejemplo, si tuviésemos datos sobre los salarios de un conjunto de personas en euros, el dato que arroja la varianza sería en euros cuadrados. Para que tenga sentido la interpretación calcularíamos la desviación típica y pasaríamos el dato a euros.\n",
    "\n",
    "#### ¿Qué diferencia existe entre la varianza y la desviación típica?\n",
    "\n",
    "\n",
    "Una cuestión que se podría plantear, y con razón, sería la diferencia entre varianza y desviación típica. En realidad, vienen a medir lo mismo. La varianza es la desviación típica elevada al cuadrado. O al revés, la desviación típica es la raíz cuadrada de la varianza.\n",
    "\n",
    "La desviación típica se hace para poder trabajar en las unidades de medida iniciales. Claro que, como es normal, uno puede preguntarse, ¿de qué sirve tener como concepto la varianza? Bien, aunque la interpretación del valor que arroja no nos da demasiada información, su cálculo es necesario para obtener el valor de otros parámetros."
   ]
  },
  {
   "cell_type": "code",
   "execution_count": 3,
   "metadata": {},
   "outputs": [],
   "source": [
    "from statistics import median\n",
    "from math import sqrt, ceil\n",
    "from pandas import DataFrame"
   ]
  },
  {
   "cell_type": "markdown",
   "metadata": {},
   "source": [
    "Vamos a acuñar una serie de datos sobre salarios. Tenemos cinco personas, cada uno con un salario diferente:"
   ]
  },
  {
   "cell_type": "code",
   "execution_count": 5,
   "metadata": {},
   "outputs": [],
   "source": [
    "data = DataFrame({\n",
    "    \n",
    "    \"Salary\" :[1500,1200,1700,1300,1800],\n",
    "    \"Employee\" : [\"Juán\",\"Pepe\",\"José\",\"Miguel\",\"Mateo\"]\n",
    "})"
   ]
  },
  {
   "cell_type": "code",
   "execution_count": 12,
   "metadata": {},
   "outputs": [
    {
     "data": {
      "text/html": [
       "<div>\n",
       "<style scoped>\n",
       "    .dataframe tbody tr th:only-of-type {\n",
       "        vertical-align: middle;\n",
       "    }\n",
       "\n",
       "    .dataframe tbody tr th {\n",
       "        vertical-align: top;\n",
       "    }\n",
       "\n",
       "    .dataframe thead th {\n",
       "        text-align: right;\n",
       "    }\n",
       "</style>\n",
       "<table border=\"1\" class=\"dataframe\">\n",
       "  <thead>\n",
       "    <tr style=\"text-align: right;\">\n",
       "      <th></th>\n",
       "      <th>Salary</th>\n",
       "      <th>Employee</th>\n",
       "    </tr>\n",
       "  </thead>\n",
       "  <tbody>\n",
       "    <tr>\n",
       "      <th>0</th>\n",
       "      <td>1500</td>\n",
       "      <td>Juán</td>\n",
       "    </tr>\n",
       "    <tr>\n",
       "      <th>1</th>\n",
       "      <td>1200</td>\n",
       "      <td>Pepe</td>\n",
       "    </tr>\n",
       "    <tr>\n",
       "      <th>2</th>\n",
       "      <td>1700</td>\n",
       "      <td>José</td>\n",
       "    </tr>\n",
       "    <tr>\n",
       "      <th>3</th>\n",
       "      <td>1300</td>\n",
       "      <td>Miguel</td>\n",
       "    </tr>\n",
       "    <tr>\n",
       "      <th>4</th>\n",
       "      <td>1800</td>\n",
       "      <td>Mateo</td>\n",
       "    </tr>\n",
       "  </tbody>\n",
       "</table>\n",
       "</div>"
      ],
      "text/plain": [
       "   Salary Employee\n",
       "0    1500     Juán\n",
       "1    1200     Pepe\n",
       "2    1700     José\n",
       "3    1300   Miguel\n",
       "4    1800    Mateo"
      ]
     },
     "execution_count": 12,
     "metadata": {},
     "output_type": "execute_result"
    }
   ],
   "source": [
    "data"
   ]
  },
  {
   "cell_type": "markdown",
   "metadata": {},
   "source": [
    "#### Calculamos la media del salrio, es decir ¿ cuánto gana en promedio cada persona del data ?"
   ]
  },
  {
   "cell_type": "code",
   "execution_count": 11,
   "metadata": {},
   "outputs": [
    {
     "data": {
      "text/plain": [
       "1500"
      ]
     },
     "execution_count": 11,
     "metadata": {},
     "output_type": "execute_result"
    }
   ],
   "source": [
    "median_salary  = median(data[\"Salary\"]) \n",
    "median_salary"
   ]
  },
  {
   "cell_type": "markdown",
   "metadata": {},
   "source": [
    "#### Hallamos la varianza"
   ]
  },
  {
   "cell_type": "code",
   "execution_count": 16,
   "metadata": {},
   "outputs": [
    {
     "name": "stdout",
     "output_type": "stream",
     "text": [
      "52000.0 € ^ 2\n"
     ]
    }
   ],
   "source": [
    "var_x = 0\n",
    "for xi in data[\"Salary\"]:\n",
    "    var_x += (xi-median_salary)**2\n",
    "var_x = var_x/len(data[\"Salary\"])\n",
    "\n",
    "print(var_x,\"€ ^ 2\")"
   ]
  },
  {
   "cell_type": "markdown",
   "metadata": {},
   "source": [
    "El resultado es de 52.000 euros al cuadrado. Es importante recordar que siempre que calculamos la varianza tenemos las unidades de medida al cuadrado. Para pasarlo a euros, en este caso tendríamos que realizar la desviación típica."
   ]
  },
  {
   "cell_type": "code",
   "execution_count": 18,
   "metadata": {},
   "outputs": [
    {
     "name": "stdout",
     "output_type": "stream",
     "text": [
      "229 €\n"
     ]
    }
   ],
   "source": [
    "std_x = ceil(sqrt(var_x))\n",
    "\n",
    "print(\"{} €\".format(std_x))"
   ]
  },
  {
   "cell_type": "markdown",
   "metadata": {},
   "source": [
    "El resultado aproximado sería de 229 euros. Esto quiere decir que, en media, la diferencia entre los salarios de las distintas personas será de 229 euros."
   ]
  }
 ],
 "metadata": {
  "kernelspec": {
   "display_name": "Python 3",
   "language": "python",
   "name": "python3"
  },
  "language_info": {
   "codemirror_mode": {
    "name": "ipython",
    "version": 3
   },
   "file_extension": ".py",
   "mimetype": "text/x-python",
   "name": "python",
   "nbconvert_exporter": "python",
   "pygments_lexer": "ipython3",
   "version": "3.7.1"
  }
 },
 "nbformat": 4,
 "nbformat_minor": 2
}
