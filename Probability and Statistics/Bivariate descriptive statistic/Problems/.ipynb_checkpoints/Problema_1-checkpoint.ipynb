{
 "cells": [
  {
   "cell_type": "markdown",
   "metadata": {},
   "source": [
    "### PROBLEMA 1 - Modelo de regresion lineal\n",
    "\n",
    "Para estudiar la relación existente entre el precio y el número de\n",
    "habitaciones de una vivienda en Madrid disponemos de los datos referidos a 300\n",
    "operaciones de venta, de los que se deduce que el precio medio es 250.000€, el\n",
    "coeficiente de variación del precio es 0’25, el número medio de habitaciones es de 3, el\n",
    "coeficiente de variación para esta última variable es 0’10 y finalmente el coeficiente de\n",
    "correlación entre ambas variables se sitúa en 0’8.\n",
    "\n",
    "    Ajusta un modelo lineal entre las dos variables"
   ]
  },
  {
   "cell_type": "markdown",
   "metadata": {},
   "source": [
    "#### Solución\n",
    "\n",
    "Hay una relación existente entre el precio y el numero de habitaciones, en la cual la varibale independiente es X como el numero de habitaciones e Y como el precio, por lo tanto es una recta de regresión de Y sobre X.\n",
    "\n",
    "#### Datos:\n",
    "\n",
    "$ n : $ Tamño de la muestra 300\n",
    "\n",
    "$ \\bar{y} : $ Precio medio 250 000\n",
    "\n",
    "$ CV_{\\bar{y}} : $ Coeficente variacion del precio medio 0.25\n",
    "\n",
    "$ \\bar{x} : $ Número medio de habitaciones 3\n",
    "\n",
    "$ CV_{\\bar{x}} :$ Coeficiente de variación del numero de habitaciones 0.10\n",
    "\n",
    "$ r_{XY} = \\frac{S_{XY}}{S_{X}*S_{Y}}$ Coeficente de correlación entre ambas varibales 0.8"
   ]
  },
  {
   "cell_type": "code",
   "execution_count": 2,
   "metadata": {},
   "outputs": [],
   "source": [
    "import math"
   ]
  },
  {
   "cell_type": "code",
   "execution_count": 14,
   "metadata": {},
   "outputs": [],
   "source": [
    "n = 300\n",
    "mu_y = 250000\n",
    "cv_y = 0.25\n",
    "mu_x = 3\n",
    "cv_x = 0.10\n",
    "rxy = 0.8"
   ]
  },
  {
   "cell_type": "markdown",
   "metadata": {},
   "source": [
    "#### De los coeficones de variacion hallamos las desviaciones estandar (típicas) \n",
    "\n",
    "\n",
    "_Sabemos que:__\n",
    "\n",
    "$ CV_{z} = \\frac{\\sigma_{Z}}{\\mu_{Z}} $\n",
    "\n",
    "_Entonces:_\n",
    "\n",
    "_Para y:_\n",
    "\n",
    "$ CV_{y} = \\frac{\\sigma_{y}}{\\mu_{y}} $\n",
    "\n",
    "$ CV_{y}*\\mu{_y} = \\sigma_{y} $\n",
    "\n",
    "\n",
    "_Para x :_\n",
    "\n",
    "$ CV_{x} = \\frac{\\sigma_{x}}{\\mu_{x}} $\n",
    "\n",
    "$ CV_{x}*\\mu_{x} = \\sigma_{x} $"
   ]
  },
  {
   "cell_type": "markdown",
   "metadata": {},
   "source": [
    "#### Sustituyendo "
   ]
  },
  {
   "cell_type": "code",
   "execution_count": 18,
   "metadata": {},
   "outputs": [
    {
     "data": {
      "text/plain": [
       "62500.0"
      ]
     },
     "execution_count": 18,
     "metadata": {},
     "output_type": "execute_result"
    }
   ],
   "source": [
    "sy_sigma = cv_y*mu_y\n",
    "sy_sigma"
   ]
  },
  {
   "cell_type": "code",
   "execution_count": 20,
   "metadata": {},
   "outputs": [
    {
     "data": {
      "text/plain": [
       "0.30000000000000004"
      ]
     },
     "execution_count": 20,
     "metadata": {},
     "output_type": "execute_result"
    }
   ],
   "source": [
    "sx_sigma = cv_x*mu_x\n",
    "sx_sigma"
   ]
  },
  {
   "cell_type": "markdown",
   "metadata": {},
   "source": [
    "#### Dado el modelo \n",
    "\n",
    "#### $Y = \\beta_{0} +\\beta_{1}*X $\n",
    "\n",
    "__Tenemos :__\n",
    "\n",
    "$ \\beta_{1} = r_{xy} * \\frac{\\sigma_{y}}{\\sigma_{x}}$\n",
    "\n",
    "_Donde  $ \\sigma_{z} : $ es la desviacion estandar de z_\n",
    "\n",
    "$ \\beta_{0} = \\bar{Y} - \\beta_{1}*\\bar{X} $"
   ]
  },
  {
   "cell_type": "code",
   "execution_count": 48,
   "metadata": {},
   "outputs": [
    {
     "data": {
      "text/plain": [
       "166666.66666666666"
      ]
     },
     "execution_count": 48,
     "metadata": {},
     "output_type": "execute_result"
    }
   ],
   "source": [
    "b1 = rxy*(sy_sigma/sx_sigma)\n",
    "b1"
   ]
  },
  {
   "cell_type": "code",
   "execution_count": 49,
   "metadata": {},
   "outputs": [
    {
     "data": {
      "text/plain": [
       "-250000.0"
      ]
     },
     "execution_count": 49,
     "metadata": {},
     "output_type": "execute_result"
    }
   ],
   "source": [
    "b0 = mu_y - (b1*mu_x)\n",
    "b0"
   ]
  },
  {
   "cell_type": "markdown",
   "metadata": {},
   "source": [
    "#### Por lo tanto el modelo queda como:"
   ]
  },
  {
   "cell_type": "code",
   "execution_count": 50,
   "metadata": {},
   "outputs": [
    {
     "name": "stdout",
     "output_type": "stream",
     "text": [
      "Y = -250000.0 + 166666.66666666666*X\n"
     ]
    }
   ],
   "source": [
    "print(\"Y = {} + {}*X\".format(b0,b1))"
   ]
  },
  {
   "cell_type": "markdown",
   "metadata": {},
   "source": [
    "Como la pendiente es positiva, el precio aumenta según aumenta el número de\n",
    "habitaciones"
   ]
  },
  {
   "cell_type": "markdown",
   "metadata": {},
   "source": [
    "__Determina cuánto debería pedirse, de acuerdo con el mercado, por una vivienda de\n",
    "dos habitaciones.__"
   ]
  },
  {
   "cell_type": "code",
   "execution_count": 57,
   "metadata": {},
   "outputs": [],
   "source": [
    "def predict(b0,b1,x):\n",
    "    print(\"Y = {} + {}*{}\".format(b0,b1,x))\n",
    "    return (b0 + (b1*x))"
   ]
  },
  {
   "cell_type": "code",
   "execution_count": 62,
   "metadata": {},
   "outputs": [
    {
     "name": "stdout",
     "output_type": "stream",
     "text": [
      "Y = -250000.0 + 166666.66666666666*2\n",
      "83333.33333333331\n"
     ]
    }
   ],
   "source": [
    "print(predict(b0,b1,2))"
   ]
  },
  {
   "cell_type": "markdown",
   "metadata": {},
   "source": [
    "#### Valoracion del grado de ajuste\n",
    "\n",
    "__Sabemos que__\n",
    "\n",
    "$$ R^2 = (r_{XY})^2 = (\\frac{S_{XY}}{S_{X}S_{Y}})^2$$\n",
    "\n",
    "Entonces "
   ]
  },
  {
   "cell_type": "code",
   "execution_count": 70,
   "metadata": {},
   "outputs": [
    {
     "name": "stdout",
     "output_type": "stream",
     "text": [
      "64 % de fiabilidad del modelo \n"
     ]
    }
   ],
   "source": [
    "print(\"{0:.0f} % de fiabilidad del modelo \".format(int((rxy**2)*100)))"
   ]
  },
  {
   "cell_type": "markdown",
   "metadata": {},
   "source": [
    "explica el 64% de la variabilidad de la variable Y (Precio) en\n",
    "función de X (número de habitaciones). No es un porcentaje muy alto (cercano a\n",
    "100%) pero es aceptable."
   ]
  }
 ],
 "metadata": {
  "kernelspec": {
   "display_name": "Python 3",
   "language": "python",
   "name": "python3"
  },
  "language_info": {
   "codemirror_mode": {
    "name": "ipython",
    "version": 3
   },
   "file_extension": ".py",
   "mimetype": "text/x-python",
   "name": "python",
   "nbconvert_exporter": "python",
   "pygments_lexer": "ipython3",
   "version": "3.7.1"
  }
 },
 "nbformat": 4,
 "nbformat_minor": 2
}
