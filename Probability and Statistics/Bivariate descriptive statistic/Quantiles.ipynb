{
 "cells": [
  {
   "cell_type": "markdown",
   "metadata": {},
   "source": [
    "# Qauntiles"
   ]
  },
  {
   "cell_type": "markdown",
   "metadata": {},
   "source": [
    "### Quartile\n",
    "\n",
    "The measures of relative position in general are called \"quartiles\" and they are sorted in three groups.\n",
    "\n",
    "* __Quertile : The data is divided into four equal parts (25%,50%,75%).__\n",
    "\n",
    "* __Quartiles divide a sorted distribution into equal parts__\n",
    "\n",
    "* __To calculate the measure of psotition it is necessary sort all data__\n",
    "\n",
    "      \n",
    "    * Deciles : The data is divided into ten equal parts (10%,20%, 30%,....,90%)\n",
    "    \n",
    "    * Quintiles: The data is divided into five equal parts (20%,40%,60%,80%)\n",
    "    \n",
    "    * Percentiles: The data is divided into 100 equal parts (1%,.....,99%)\n"
   ]
  },
  {
   "cell_type": "markdown",
   "metadata": {},
   "source": [
    "### Calculating Quartile\n",
    "\n",
    "1. Sort the data from low to the highest\n",
    "2. Deermine the position that each quartile occupies:\n",
    "\n",
    "$ Q_k = K(\\frac{n}{4})$\n",
    "\n",
    "_Where __n__ is the Size of data_\n",
    "\n",
    "Q1 : Leave below 25% of the data.\n",
    "\n",
    "Q2 : Leave below 50% of the data. __(Median)__\n",
    "\n",
    "Q3 : Leave beloww 75% of the data. "
   ]
  },
  {
   "cell_type": "markdown",
   "metadata": {},
   "source": [
    "### Example\n",
    "\n",
    "__Let S (set of data) what is the value of third quartile?__"
   ]
  },
  {
   "cell_type": "code",
   "execution_count": 23,
   "metadata": {},
   "outputs": [],
   "source": [
    "from math import ceil\n",
    "from itertools import *\n",
    "import pandas as pd"
   ]
  },
  {
   "cell_type": "code",
   "execution_count": 1,
   "metadata": {},
   "outputs": [],
   "source": [
    "S = [2,5,9,3,13,10,11,6,7]"
   ]
  },
  {
   "cell_type": "code",
   "execution_count": 2,
   "metadata": {},
   "outputs": [],
   "source": [
    "S.sort() #Sort the data from low to highest"
   ]
  },
  {
   "cell_type": "code",
   "execution_count": 3,
   "metadata": {},
   "outputs": [],
   "source": [
    "k = 3 #Number of quartile\n",
    "n = len(S) #Size of data"
   ]
  },
  {
   "cell_type": "code",
   "execution_count": 4,
   "metadata": {},
   "outputs": [],
   "source": [
    "Qk = k*(n/4)"
   ]
  },
  {
   "cell_type": "code",
   "execution_count": 9,
   "metadata": {},
   "outputs": [
    {
     "name": "stdout",
     "output_type": "stream",
     "text": [
      " Qk =  7\n"
     ]
    }
   ],
   "source": [
    "print(\" Qk = \",ceil(Qk)) #Integer nearest"
   ]
  },
  {
   "cell_type": "markdown",
   "metadata": {},
   "source": [
    "### Percentiles\n",
    "\n",
    "\n",
    "Percentil $ P(P_p) $ is a value of the variable such that $p_%$ of a sample is below of.\n",
    "\n",
    "#### Example: \n",
    "\n",
    "$P_{50}% $ leave below of median\n",
    "\n",
    "\n",
    "#### Caclutae a percentil :\n",
    "\n",
    "$ P_p = (\\frac{pn}{100}) $"
   ]
  },
  {
   "cell_type": "markdown",
   "metadata": {},
   "source": [
    "### Example\n",
    "\n",
    "__The evaluation of 25 customers about custumer service of a company is (puntuation 1 to 10)__\n",
    "\n",
    "___What is the percentile $P$85% and what does that mean?___"
   ]
  },
  {
   "cell_type": "code",
   "execution_count": 16,
   "metadata": {},
   "outputs": [],
   "source": [
    "P = [7,7,3,6,8,2,5,7,3,8,1,5,6,4,4,5,6,2,9,4,2,3,7,5,7]"
   ]
  },
  {
   "cell_type": "markdown",
   "metadata": {},
   "source": [
    "### Build the Frequency distribution Table"
   ]
  },
  {
   "cell_type": "code",
   "execution_count": 36,
   "metadata": {},
   "outputs": [],
   "source": [
    "Xi = [i for i in range(1,11)] #Elements\n",
    "FA = [1,4,3,3,3,4,4,2,1,0] #Absolut Fruency\n",
    "FAC = list(accumulate(FA)) #Accumulated Absolut Frequency\n",
    "FR = [i/n for i in FA] #Relative Frequency\n",
    "FRC = list(accumulate(FR)) #Accumulated Relative Frequency"
   ]
  },
  {
   "cell_type": "code",
   "execution_count": 37,
   "metadata": {},
   "outputs": [],
   "source": [
    "dataFrame = pd.DataFrame({\n",
    "    \"Xi\":Xi,\n",
    "    \"Abs_Frec\":FA,\n",
    "    \"Acc_Abs_Frec\":FAC,\n",
    "    \"Rel_Frec\":FR,\n",
    "    \"Frec_Rel_Acc\":FRC \n",
    "}); "
   ]
  },
  {
   "cell_type": "code",
   "execution_count": 38,
   "metadata": {},
   "outputs": [
    {
     "data": {
      "text/html": [
       "<div>\n",
       "<style scoped>\n",
       "    .dataframe tbody tr th:only-of-type {\n",
       "        vertical-align: middle;\n",
       "    }\n",
       "\n",
       "    .dataframe tbody tr th {\n",
       "        vertical-align: top;\n",
       "    }\n",
       "\n",
       "    .dataframe thead th {\n",
       "        text-align: right;\n",
       "    }\n",
       "</style>\n",
       "<table border=\"1\" class=\"dataframe\">\n",
       "  <thead>\n",
       "    <tr style=\"text-align: right;\">\n",
       "      <th></th>\n",
       "      <th>Xi</th>\n",
       "      <th>Abs_Frec</th>\n",
       "      <th>Acc_Abs_Frec</th>\n",
       "      <th>Rel_Frec</th>\n",
       "      <th>Frec_Rel_Acc</th>\n",
       "    </tr>\n",
       "  </thead>\n",
       "  <tbody>\n",
       "    <tr>\n",
       "      <th>0</th>\n",
       "      <td>1</td>\n",
       "      <td>1</td>\n",
       "      <td>1</td>\n",
       "      <td>0.04</td>\n",
       "      <td>0.04</td>\n",
       "    </tr>\n",
       "    <tr>\n",
       "      <th>1</th>\n",
       "      <td>2</td>\n",
       "      <td>4</td>\n",
       "      <td>5</td>\n",
       "      <td>0.16</td>\n",
       "      <td>0.20</td>\n",
       "    </tr>\n",
       "    <tr>\n",
       "      <th>2</th>\n",
       "      <td>3</td>\n",
       "      <td>3</td>\n",
       "      <td>8</td>\n",
       "      <td>0.12</td>\n",
       "      <td>0.32</td>\n",
       "    </tr>\n",
       "    <tr>\n",
       "      <th>3</th>\n",
       "      <td>4</td>\n",
       "      <td>3</td>\n",
       "      <td>11</td>\n",
       "      <td>0.12</td>\n",
       "      <td>0.44</td>\n",
       "    </tr>\n",
       "    <tr>\n",
       "      <th>4</th>\n",
       "      <td>5</td>\n",
       "      <td>3</td>\n",
       "      <td>14</td>\n",
       "      <td>0.12</td>\n",
       "      <td>0.56</td>\n",
       "    </tr>\n",
       "    <tr>\n",
       "      <th>5</th>\n",
       "      <td>6</td>\n",
       "      <td>4</td>\n",
       "      <td>18</td>\n",
       "      <td>0.16</td>\n",
       "      <td>0.72</td>\n",
       "    </tr>\n",
       "    <tr>\n",
       "      <th>6</th>\n",
       "      <td>7</td>\n",
       "      <td>4</td>\n",
       "      <td>22</td>\n",
       "      <td>0.16</td>\n",
       "      <td>0.88</td>\n",
       "    </tr>\n",
       "    <tr>\n",
       "      <th>7</th>\n",
       "      <td>8</td>\n",
       "      <td>2</td>\n",
       "      <td>24</td>\n",
       "      <td>0.08</td>\n",
       "      <td>0.96</td>\n",
       "    </tr>\n",
       "    <tr>\n",
       "      <th>8</th>\n",
       "      <td>9</td>\n",
       "      <td>1</td>\n",
       "      <td>25</td>\n",
       "      <td>0.04</td>\n",
       "      <td>1.00</td>\n",
       "    </tr>\n",
       "    <tr>\n",
       "      <th>9</th>\n",
       "      <td>10</td>\n",
       "      <td>0</td>\n",
       "      <td>25</td>\n",
       "      <td>0.00</td>\n",
       "      <td>1.00</td>\n",
       "    </tr>\n",
       "  </tbody>\n",
       "</table>\n",
       "</div>"
      ],
      "text/plain": [
       "   Xi  Abs_Frec  Acc_Abs_Frec  Rel_Frec  Frec_Rel_Acc\n",
       "0   1         1             1      0.04          0.04\n",
       "1   2         4             5      0.16          0.20\n",
       "2   3         3             8      0.12          0.32\n",
       "3   4         3            11      0.12          0.44\n",
       "4   5         3            14      0.12          0.56\n",
       "5   6         4            18      0.16          0.72\n",
       "6   7         4            22      0.16          0.88\n",
       "7   8         2            24      0.08          0.96\n",
       "8   9         1            25      0.04          1.00\n",
       "9  10         0            25      0.00          1.00"
      ]
     },
     "execution_count": 38,
     "metadata": {},
     "output_type": "execute_result"
    }
   ],
   "source": [
    "dataFrame"
   ]
  },
  {
   "cell_type": "code",
   "execution_count": 45,
   "metadata": {},
   "outputs": [
    {
     "name": "stdout",
     "output_type": "stream",
     "text": [
      "Percentile:  22\n"
     ]
    }
   ],
   "source": [
    "p = 85\n",
    "n = len(P)\n",
    "Pp = ceil((n*p)/100)\n",
    "print(\"Percentile: \",Pp)"
   ]
  },
  {
   "cell_type": "markdown",
   "metadata": {},
   "source": [
    "### Usaing Accumulated Absolut Frequency\n",
    "\n",
    "#### Search in dataFrame[\"Frec_Abs_Acc\"] for the value Pp = 22"
   ]
  },
  {
   "cell_type": "code",
   "execution_count": 75,
   "metadata": {},
   "outputs": [
    {
     "data": {
      "text/html": [
       "<div>\n",
       "<style scoped>\n",
       "    .dataframe tbody tr th:only-of-type {\n",
       "        vertical-align: middle;\n",
       "    }\n",
       "\n",
       "    .dataframe tbody tr th {\n",
       "        vertical-align: top;\n",
       "    }\n",
       "\n",
       "    .dataframe thead th {\n",
       "        text-align: right;\n",
       "    }\n",
       "</style>\n",
       "<table border=\"1\" class=\"dataframe\">\n",
       "  <thead>\n",
       "    <tr style=\"text-align: right;\">\n",
       "      <th></th>\n",
       "      <th>Xi</th>\n",
       "      <th>Abs_Frec</th>\n",
       "      <th>Acc_Abs_Frec</th>\n",
       "      <th>Rel_Frec</th>\n",
       "      <th>Frec_Rel_Acc</th>\n",
       "    </tr>\n",
       "  </thead>\n",
       "  <tbody>\n",
       "    <tr>\n",
       "      <th>6</th>\n",
       "      <td>7</td>\n",
       "      <td>4</td>\n",
       "      <td>22</td>\n",
       "      <td>0.16</td>\n",
       "      <td>0.88</td>\n",
       "    </tr>\n",
       "  </tbody>\n",
       "</table>\n",
       "</div>"
      ],
      "text/plain": [
       "   Xi  Abs_Frec  Acc_Abs_Frec  Rel_Frec  Frec_Rel_Acc\n",
       "6   7         4            22      0.16          0.88"
      ]
     },
     "execution_count": 75,
     "metadata": {},
     "output_type": "execute_result"
    }
   ],
   "source": [
    "dataFrame[dataFrame[\"Acc_Abs_Frec\"]==Pp]"
   ]
  },
  {
   "cell_type": "markdown",
   "metadata": {},
   "source": [
    "__22 (85%) customers give a score of 7 or less than 7__"
   ]
  },
  {
   "cell_type": "markdown",
   "metadata": {},
   "source": [
    "### Usaing Accumulated Relative Frequency\n",
    "\n",
    "####  Search in dataFrame[\"Frec_Rel_Acc\"] for the value that is or leaves below that p 85%. "
   ]
  },
  {
   "cell_type": "code",
   "execution_count": 83,
   "metadata": {},
   "outputs": [],
   "source": [
    "def percentile_FRA(p):\n",
    "    i = 0\n",
    "    c = p/100\n",
    "    x = dataFrame[\"Frec_Rel_Acc\"][i]\n",
    "    while x <= c:\n",
    "        x = dataFrame[\"Frec_Rel_Acc\"][i]\n",
    "        i +=1\n",
    "    return x\n",
    " "
   ]
  },
  {
   "cell_type": "code",
   "execution_count": 84,
   "metadata": {},
   "outputs": [
    {
     "data": {
      "text/html": [
       "<div>\n",
       "<style scoped>\n",
       "    .dataframe tbody tr th:only-of-type {\n",
       "        vertical-align: middle;\n",
       "    }\n",
       "\n",
       "    .dataframe tbody tr th {\n",
       "        vertical-align: top;\n",
       "    }\n",
       "\n",
       "    .dataframe thead th {\n",
       "        text-align: right;\n",
       "    }\n",
       "</style>\n",
       "<table border=\"1\" class=\"dataframe\">\n",
       "  <thead>\n",
       "    <tr style=\"text-align: right;\">\n",
       "      <th></th>\n",
       "      <th>Xi</th>\n",
       "      <th>Abs_Frec</th>\n",
       "      <th>Acc_Abs_Frec</th>\n",
       "      <th>Rel_Frec</th>\n",
       "      <th>Frec_Rel_Acc</th>\n",
       "    </tr>\n",
       "  </thead>\n",
       "  <tbody>\n",
       "    <tr>\n",
       "      <th>0</th>\n",
       "      <td>1</td>\n",
       "      <td>1</td>\n",
       "      <td>1</td>\n",
       "      <td>0.04</td>\n",
       "      <td>0.04</td>\n",
       "    </tr>\n",
       "    <tr>\n",
       "      <th>1</th>\n",
       "      <td>2</td>\n",
       "      <td>4</td>\n",
       "      <td>5</td>\n",
       "      <td>0.16</td>\n",
       "      <td>0.20</td>\n",
       "    </tr>\n",
       "    <tr>\n",
       "      <th>2</th>\n",
       "      <td>3</td>\n",
       "      <td>3</td>\n",
       "      <td>8</td>\n",
       "      <td>0.12</td>\n",
       "      <td>0.32</td>\n",
       "    </tr>\n",
       "    <tr>\n",
       "      <th>3</th>\n",
       "      <td>4</td>\n",
       "      <td>3</td>\n",
       "      <td>11</td>\n",
       "      <td>0.12</td>\n",
       "      <td>0.44</td>\n",
       "    </tr>\n",
       "    <tr>\n",
       "      <th>4</th>\n",
       "      <td>5</td>\n",
       "      <td>3</td>\n",
       "      <td>14</td>\n",
       "      <td>0.12</td>\n",
       "      <td>0.56</td>\n",
       "    </tr>\n",
       "    <tr>\n",
       "      <th>5</th>\n",
       "      <td>6</td>\n",
       "      <td>4</td>\n",
       "      <td>18</td>\n",
       "      <td>0.16</td>\n",
       "      <td>0.72</td>\n",
       "    </tr>\n",
       "    <tr>\n",
       "      <th>6</th>\n",
       "      <td>7</td>\n",
       "      <td>4</td>\n",
       "      <td>22</td>\n",
       "      <td>0.16</td>\n",
       "      <td>0.88</td>\n",
       "    </tr>\n",
       "  </tbody>\n",
       "</table>\n",
       "</div>"
      ],
      "text/plain": [
       "   Xi  Abs_Frec  Acc_Abs_Frec  Rel_Frec  Frec_Rel_Acc\n",
       "0   1         1             1      0.04          0.04\n",
       "1   2         4             5      0.16          0.20\n",
       "2   3         3             8      0.12          0.32\n",
       "3   4         3            11      0.12          0.44\n",
       "4   5         3            14      0.12          0.56\n",
       "5   6         4            18      0.16          0.72\n",
       "6   7         4            22      0.16          0.88"
      ]
     },
     "execution_count": 84,
     "metadata": {},
     "output_type": "execute_result"
    }
   ],
   "source": [
    "dataFrame[dataFrame[\"Frec_Rel_Acc\"]<=percentile_FRA(85)]   "
   ]
  },
  {
   "cell_type": "markdown",
   "metadata": {},
   "source": [
    "__85% of customers give a score of 7 or less than 7__"
   ]
  },
  {
   "cell_type": "markdown",
   "metadata": {},
   "source": [
    "### Median\n",
    "\n",
    "####  Search in dataFrame[\"Frec_Rel_Acc\"] for the value that is or leaves below that 50%. "
   ]
  },
  {
   "cell_type": "code",
   "execution_count": 85,
   "metadata": {},
   "outputs": [
    {
     "data": {
      "text/html": [
       "<div>\n",
       "<style scoped>\n",
       "    .dataframe tbody tr th:only-of-type {\n",
       "        vertical-align: middle;\n",
       "    }\n",
       "\n",
       "    .dataframe tbody tr th {\n",
       "        vertical-align: top;\n",
       "    }\n",
       "\n",
       "    .dataframe thead th {\n",
       "        text-align: right;\n",
       "    }\n",
       "</style>\n",
       "<table border=\"1\" class=\"dataframe\">\n",
       "  <thead>\n",
       "    <tr style=\"text-align: right;\">\n",
       "      <th></th>\n",
       "      <th>Xi</th>\n",
       "      <th>Abs_Frec</th>\n",
       "      <th>Acc_Abs_Frec</th>\n",
       "      <th>Rel_Frec</th>\n",
       "      <th>Frec_Rel_Acc</th>\n",
       "    </tr>\n",
       "  </thead>\n",
       "  <tbody>\n",
       "    <tr>\n",
       "      <th>0</th>\n",
       "      <td>1</td>\n",
       "      <td>1</td>\n",
       "      <td>1</td>\n",
       "      <td>0.04</td>\n",
       "      <td>0.04</td>\n",
       "    </tr>\n",
       "    <tr>\n",
       "      <th>1</th>\n",
       "      <td>2</td>\n",
       "      <td>4</td>\n",
       "      <td>5</td>\n",
       "      <td>0.16</td>\n",
       "      <td>0.20</td>\n",
       "    </tr>\n",
       "    <tr>\n",
       "      <th>2</th>\n",
       "      <td>3</td>\n",
       "      <td>3</td>\n",
       "      <td>8</td>\n",
       "      <td>0.12</td>\n",
       "      <td>0.32</td>\n",
       "    </tr>\n",
       "    <tr>\n",
       "      <th>3</th>\n",
       "      <td>4</td>\n",
       "      <td>3</td>\n",
       "      <td>11</td>\n",
       "      <td>0.12</td>\n",
       "      <td>0.44</td>\n",
       "    </tr>\n",
       "    <tr>\n",
       "      <th>4</th>\n",
       "      <td>5</td>\n",
       "      <td>3</td>\n",
       "      <td>14</td>\n",
       "      <td>0.12</td>\n",
       "      <td>0.56</td>\n",
       "    </tr>\n",
       "  </tbody>\n",
       "</table>\n",
       "</div>"
      ],
      "text/plain": [
       "   Xi  Abs_Frec  Acc_Abs_Frec  Rel_Frec  Frec_Rel_Acc\n",
       "0   1         1             1      0.04          0.04\n",
       "1   2         4             5      0.16          0.20\n",
       "2   3         3             8      0.12          0.32\n",
       "3   4         3            11      0.12          0.44\n",
       "4   5         3            14      0.12          0.56"
      ]
     },
     "execution_count": 85,
     "metadata": {},
     "output_type": "execute_result"
    }
   ],
   "source": [
    "dataFrame[dataFrame[\"Frec_Rel_Acc\"]<=percentile_FRA(50)]    "
   ]
  },
  {
   "cell_type": "markdown",
   "metadata": {},
   "source": [
    "__50% of customers give a score of 5 or less than 5__"
   ]
  },
  {
   "cell_type": "markdown",
   "metadata": {},
   "source": [
    "### Centered interval \n",
    "\n",
    "That contains 50% of the evaluation of the clients, means that they are asking for the interval between $Q1$ and $Q3$\n",
    "\n",
    "\n",
    "|25%|25%|25%|25%|\n",
    "----------------------------"
   ]
  },
  {
   "cell_type": "code",
   "execution_count": 100,
   "metadata": {},
   "outputs": [
    {
     "data": {
      "text/html": [
       "<div>\n",
       "<style scoped>\n",
       "    .dataframe tbody tr th:only-of-type {\n",
       "        vertical-align: middle;\n",
       "    }\n",
       "\n",
       "    .dataframe tbody tr th {\n",
       "        vertical-align: top;\n",
       "    }\n",
       "\n",
       "    .dataframe thead th {\n",
       "        text-align: right;\n",
       "    }\n",
       "</style>\n",
       "<table border=\"1\" class=\"dataframe\">\n",
       "  <thead>\n",
       "    <tr style=\"text-align: right;\">\n",
       "      <th></th>\n",
       "      <th>Xi</th>\n",
       "      <th>Abs_Frec</th>\n",
       "      <th>Acc_Abs_Frec</th>\n",
       "      <th>Rel_Frec</th>\n",
       "      <th>Frec_Rel_Acc</th>\n",
       "    </tr>\n",
       "  </thead>\n",
       "  <tbody>\n",
       "    <tr>\n",
       "      <th>2</th>\n",
       "      <td>3</td>\n",
       "      <td>3</td>\n",
       "      <td>8</td>\n",
       "      <td>0.12</td>\n",
       "      <td>0.32</td>\n",
       "    </tr>\n",
       "    <tr>\n",
       "      <th>3</th>\n",
       "      <td>4</td>\n",
       "      <td>3</td>\n",
       "      <td>11</td>\n",
       "      <td>0.12</td>\n",
       "      <td>0.44</td>\n",
       "    </tr>\n",
       "    <tr>\n",
       "      <th>4</th>\n",
       "      <td>5</td>\n",
       "      <td>3</td>\n",
       "      <td>14</td>\n",
       "      <td>0.12</td>\n",
       "      <td>0.56</td>\n",
       "    </tr>\n",
       "    <tr>\n",
       "      <th>5</th>\n",
       "      <td>6</td>\n",
       "      <td>4</td>\n",
       "      <td>18</td>\n",
       "      <td>0.16</td>\n",
       "      <td>0.72</td>\n",
       "    </tr>\n",
       "    <tr>\n",
       "      <th>6</th>\n",
       "      <td>7</td>\n",
       "      <td>4</td>\n",
       "      <td>22</td>\n",
       "      <td>0.16</td>\n",
       "      <td>0.88</td>\n",
       "    </tr>\n",
       "  </tbody>\n",
       "</table>\n",
       "</div>"
      ],
      "text/plain": [
       "   Xi  Abs_Frec  Acc_Abs_Frec  Rel_Frec  Frec_Rel_Acc\n",
       "2   3         3             8      0.12          0.32\n",
       "3   4         3            11      0.12          0.44\n",
       "4   5         3            14      0.12          0.56\n",
       "5   6         4            18      0.16          0.72\n",
       "6   7         4            22      0.16          0.88"
      ]
     },
     "execution_count": 100,
     "metadata": {},
     "output_type": "execute_result"
    }
   ],
   "source": [
    "dataFrame[(dataFrame[\"Frec_Rel_Acc\"]>=(25/100)) & (dataFrame[\"Frec_Rel_Acc\"]<=(75/100))]"
   ]
  },
  {
   "cell_type": "markdown",
   "metadata": {},
   "source": [
    "__50% of customers give a score of 3 or 7__\n"
   ]
  }
 ],
 "metadata": {
  "kernelspec": {
   "display_name": "Python 3",
   "language": "python",
   "name": "python3"
  },
  "language_info": {
   "codemirror_mode": {
    "name": "ipython",
    "version": 3
   },
   "file_extension": ".py",
   "mimetype": "text/x-python",
   "name": "python",
   "nbconvert_exporter": "python",
   "pygments_lexer": "ipython3",
   "version": "3.7.0"
  }
 },
 "nbformat": 4,
 "nbformat_minor": 2
}
