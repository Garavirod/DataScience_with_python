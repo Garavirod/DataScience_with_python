{
 "cells": [
  {
   "cell_type": "markdown",
   "metadata": {},
   "source": [
    "# Correlación"
   ]
  },
  {
   "cell_type": "markdown",
   "metadata": {},
   "source": [
    "La correlación de una varibale bidimensional: $$ (X,Y) $$ trata de establescer la relación o dependencia lineal entre dos variables que intervienen X e Y sin depender de la escala"
   ]
  },
  {
   "cell_type": "markdown",
   "metadata": {},
   "source": [
    "### Tipos de correlación:"
   ]
  },
  {
   "cell_type": "markdown",
   "metadata": {},
   "source": [
    "1. Directa\n",
    "2. Inversa\n",
    "3. Nula\n",
    "\n",
    "\n",
    "#### Directa:\n",
    "\n",
    "    Cuando aumenta una varibale, la otra también lo hace, la recta es creciente.\n",
    "\n",
    "#### Inversa:\n",
    "    \n",
    "    Cuando aumenta una de las varibales, la otra disminuye, la recta es decreciente.\n",
    "    \n",
    "#### Nula:\n",
    "\n",
    "    No hay ningun tipo de dependencai entre las varibales, las varibales son incorreladas, la nuebe\n",
    "    de puntos es redondeada\n",
    "    \n",
    "    \n",
    "   *Puede que no hay dependencia lineal, si embargo existe otro tipo de dependecia como la exponencial\n",
    "    o cuadrática*\n",
    "   "
   ]
  },
  {
   "cell_type": "markdown",
   "metadata": {},
   "source": [
    "### Grado de correlación"
   ]
  },
  {
   "cell_type": "markdown",
   "metadata": {},
   "source": [
    "De haber correlación lienal entre dos variables de algun tipo, posistivas o negativas, el grado de correlación implica **la prximidad que hay entre los puntos y lo que sería la recta de regreción que representa la tendencía (comportamiento datos obtenidos a lo largo de un periodo)**\n",
    "\n",
    "\n",
    "1. FUERTE: Puntos cerca de la recta\n",
    "2. DÉBIL: Puntos alejados (pero no mucho) de la recta"
   ]
  },
  {
   "cell_type": "markdown",
   "metadata": {},
   "source": [
    "### Coeficiiente de correlación lienal de Pearson"
   ]
  },
  {
   "cell_type": "markdown",
   "metadata": {},
   "source": [
    "Es el cociente entre la covarianza y el producto de las desviaciones estandar de ambas variables:\n",
    "\n",
    "$$ r_{xy} = \\frac{S_{XY}}{S_{X}S_{Y}} $$\n",
    "\n",
    "$$ S_{xy} : Covarianza cov(x,y) $$\n",
    "\n",
    "$$ S_{X} : Desviación std de X $$\n",
    "\n",
    "$$ S_{Y} : Desviasión std de Y $$\n",
    "\n",
    "#### Propiedades: \n",
    "\n",
    "    1. El coeficiente no varía a la escal de medición\n",
    "    2. El signo indica lo mismo que la covarianza\n",
    "    3. El valor que arroja está entre -1 y 1\n",
    "    4. Si el coeficiente toma valores cercanos a -1 será \"fuerte e inversa\"\n",
    "    5. Si el coeficiente toma valores cercanos a 1 será \"fuerte y directa\"\n",
    "    4. Si el coeficiente toma valores igual a 0 la correlación será débil.\n",
    "    6. Si da valores excatos a 1 o -1 los puntos de la nube estan sobre la recta."
   ]
  },
  {
   "cell_type": "code",
   "execution_count": null,
   "metadata": {},
   "outputs": [],
   "source": []
  }
 ],
 "metadata": {
  "kernelspec": {
   "display_name": "Python 3",
   "language": "python",
   "name": "python3"
  },
  "language_info": {
   "codemirror_mode": {
    "name": "ipython",
    "version": 3
   },
   "file_extension": ".py",
   "mimetype": "text/x-python",
   "name": "python",
   "nbconvert_exporter": "python",
   "pygments_lexer": "ipython3",
   "version": "3.7.0"
  }
 },
 "nbformat": 4,
 "nbformat_minor": 2
}
