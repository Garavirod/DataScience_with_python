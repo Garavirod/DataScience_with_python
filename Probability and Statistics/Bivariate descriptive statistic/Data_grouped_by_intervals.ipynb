{
 "cells": [
  {
   "cell_type": "markdown",
   "metadata": {},
   "source": [
    "# Data gropued by intervals"
   ]
  },
  {
   "cell_type": "markdown",
   "metadata": {},
   "source": [
    "This sort of data are given in intervals o ranges, for example:\n",
    "The weight in Kg that relates to 100 people\n",
    "\n",
    "### Median\n",
    "\n",
    "It's found in the interval where the accumulated frequency reaches half of the sum of the absolute frequencies, it is half of the total.\n",
    "\n",
    "$$ me = Li + \\frac{\\frac{n}{2}-(N_{i-1})}{n_i}*t_i $$\n",
    "\n",
    "Where:\n",
    "\n",
    "    Li : Bottom end of the median interval &nbsp;\n",
    "    n/2 :Half of total of data\n",
    "    Ni-1: Absolute frequency of the previous class\n",
    "    ni : Absolute frequency of the median\n",
    "    ti: size of the interval\n",
    "    \n",
    "### Mode\n",
    "\n",
    "It is the most repeated value in a data set, there may be more than one mode.\n",
    "\n",
    "$$ Mo =  \\frac{n_i - n_{i-1}}{(n_i - n_{i-1})+(ni - n_{i+1})}*ti $$\n",
    "\n",
    "\n",
    "### Absolute Frequency\n",
    "\n",
    "Number of times that an element of the class is repeated, the sum of all absolute frequencies gives me the total number of elements.\n",
    "\n",
    "\n",
    "### Accumulated Frequency\n",
    "\n",
    "It is the total accumulated of the all absolute frequencies, de last accumulated frequency must be equal to the total number of data.\n",
    "\n",
    "### Relative Frequency\n",
    "\n",
    "It is the absolute frequency divided by the total number of elements, it indicates that the percentage of the total represents each absolute frequency of each class, if all the relative frequencies are added, the result must be 1.\n",
    "\n",
    "### Accumulated relative frequency\n",
    "\n",
    "It's the sum of all relative frequencies."
   ]
  },
  {
   "cell_type": "markdown",
   "metadata": {},
   "source": [
    "### Example"
   ]
  },
  {
   "cell_type": "code",
   "execution_count": 13,
   "metadata": {},
   "outputs": [],
   "source": [
    "import pandas as pd\n",
    "import statistics as sts\n",
    "import numpy as np\n",
    "import matplotlib.pyplot as plt\n",
    "import math"
   ]
  },
  {
   "cell_type": "markdown",
   "metadata": {},
   "source": [
    "### Set of data"
   ]
  },
  {
   "cell_type": "code",
   "execution_count": 14,
   "metadata": {},
   "outputs": [],
   "source": [
    "data = [7,7,3,6,8,2,5,7,3,8,1,5,6,4,4,5,6,2,9,4,2,3,7]"
   ]
  },
  {
   "cell_type": "code",
   "execution_count": 16,
   "metadata": {},
   "outputs": [],
   "source": [
    "dataFrame = pd.DataFrame({\n",
    "    \"Xi\":[1,2,3,4,5,6,7,8,9,10],\n",
    "    \"Abs_Frec\":[1,4,3,3,3,4,4,2,1,0],\n",
    "    \"Acc_Abs_Frec\":[1,5,8,11,14,18,22,24,25,25],\n",
    "    \"Rel_Frec\":[0.04,0.16,0.12,0.12,0.12,0.16,0.16,0.08,0.04,0],\n",
    "    \"Frec_Rel_Acc\":[0.04,0.20,0.32,0.44,0.56,0.72,0.88,0.96,1,1]   \n",
    "}); "
   ]
  },
  {
   "cell_type": "code",
   "execution_count": 18,
   "metadata": {},
   "outputs": [
    {
     "data": {
      "text/html": [
       "<div>\n",
       "<style scoped>\n",
       "    .dataframe tbody tr th:only-of-type {\n",
       "        vertical-align: middle;\n",
       "    }\n",
       "\n",
       "    .dataframe tbody tr th {\n",
       "        vertical-align: top;\n",
       "    }\n",
       "\n",
       "    .dataframe thead th {\n",
       "        text-align: right;\n",
       "    }\n",
       "</style>\n",
       "<table border=\"1\" class=\"dataframe\">\n",
       "  <thead>\n",
       "    <tr style=\"text-align: right;\">\n",
       "      <th></th>\n",
       "      <th>Xi</th>\n",
       "      <th>Abs_Frec</th>\n",
       "      <th>Acc_Abs_Frec</th>\n",
       "      <th>Rel_Frec</th>\n",
       "      <th>Frec_Rel_Acc</th>\n",
       "    </tr>\n",
       "  </thead>\n",
       "  <tbody>\n",
       "    <tr>\n",
       "      <th>0</th>\n",
       "      <td>1</td>\n",
       "      <td>1</td>\n",
       "      <td>1</td>\n",
       "      <td>0.04</td>\n",
       "      <td>0.04</td>\n",
       "    </tr>\n",
       "    <tr>\n",
       "      <th>1</th>\n",
       "      <td>2</td>\n",
       "      <td>4</td>\n",
       "      <td>5</td>\n",
       "      <td>0.16</td>\n",
       "      <td>0.20</td>\n",
       "    </tr>\n",
       "    <tr>\n",
       "      <th>2</th>\n",
       "      <td>3</td>\n",
       "      <td>3</td>\n",
       "      <td>8</td>\n",
       "      <td>0.12</td>\n",
       "      <td>0.32</td>\n",
       "    </tr>\n",
       "    <tr>\n",
       "      <th>3</th>\n",
       "      <td>4</td>\n",
       "      <td>3</td>\n",
       "      <td>11</td>\n",
       "      <td>0.12</td>\n",
       "      <td>0.44</td>\n",
       "    </tr>\n",
       "    <tr>\n",
       "      <th>4</th>\n",
       "      <td>5</td>\n",
       "      <td>3</td>\n",
       "      <td>14</td>\n",
       "      <td>0.12</td>\n",
       "      <td>0.56</td>\n",
       "    </tr>\n",
       "    <tr>\n",
       "      <th>5</th>\n",
       "      <td>6</td>\n",
       "      <td>4</td>\n",
       "      <td>18</td>\n",
       "      <td>0.16</td>\n",
       "      <td>0.72</td>\n",
       "    </tr>\n",
       "    <tr>\n",
       "      <th>6</th>\n",
       "      <td>7</td>\n",
       "      <td>4</td>\n",
       "      <td>22</td>\n",
       "      <td>0.16</td>\n",
       "      <td>0.88</td>\n",
       "    </tr>\n",
       "    <tr>\n",
       "      <th>7</th>\n",
       "      <td>8</td>\n",
       "      <td>2</td>\n",
       "      <td>24</td>\n",
       "      <td>0.08</td>\n",
       "      <td>0.96</td>\n",
       "    </tr>\n",
       "    <tr>\n",
       "      <th>8</th>\n",
       "      <td>9</td>\n",
       "      <td>1</td>\n",
       "      <td>25</td>\n",
       "      <td>0.04</td>\n",
       "      <td>1.00</td>\n",
       "    </tr>\n",
       "    <tr>\n",
       "      <th>9</th>\n",
       "      <td>10</td>\n",
       "      <td>0</td>\n",
       "      <td>25</td>\n",
       "      <td>0.00</td>\n",
       "      <td>1.00</td>\n",
       "    </tr>\n",
       "  </tbody>\n",
       "</table>\n",
       "</div>"
      ],
      "text/plain": [
       "   Xi  Abs_Frec  Acc_Abs_Frec  Rel_Frec  Frec_Rel_Acc\n",
       "0   1         1             1      0.04          0.04\n",
       "1   2         4             5      0.16          0.20\n",
       "2   3         3             8      0.12          0.32\n",
       "3   4         3            11      0.12          0.44\n",
       "4   5         3            14      0.12          0.56\n",
       "5   6         4            18      0.16          0.72\n",
       "6   7         4            22      0.16          0.88\n",
       "7   8         2            24      0.08          0.96\n",
       "8   9         1            25      0.04          1.00\n",
       "9  10         0            25      0.00          1.00"
      ]
     },
     "execution_count": 18,
     "metadata": {},
     "output_type": "execute_result"
    }
   ],
   "source": [
    "dataFrame"
   ]
  }
 ],
 "metadata": {
  "kernelspec": {
   "display_name": "Python 3",
   "language": "python",
   "name": "python3"
  },
  "language_info": {
   "codemirror_mode": {
    "name": "ipython",
    "version": 3
   },
   "file_extension": ".py",
   "mimetype": "text/x-python",
   "name": "python",
   "nbconvert_exporter": "python",
   "pygments_lexer": "ipython3",
   "version": "3.7.1"
  }
 },
 "nbformat": 4,
 "nbformat_minor": 2
}
