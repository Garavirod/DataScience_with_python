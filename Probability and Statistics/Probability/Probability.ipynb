{
 "cells": [
  {
   "cell_type": "markdown",
   "metadata": {},
   "source": [
    "# Probability"
   ]
  },
  {
   "cell_type": "markdown",
   "metadata": {},
   "source": [
    "#### Classical probability (laplace rule)\n",
    "\n",
    "Consider an experiment in which the elementary events are equiprobable if the event a has an n (A) elements. Then the probability of A is defined as:\n",
    "\n",
    "$$ P(A) = \\frac{n(A)}{n(\\Omega)} $$\n",
    "\n",
    "\n",
    "*Where*:\n",
    "\n",
    "Favorable cases $$n(A)$$ \n",
    "Number of posible cases $$ n(\\Omega) $$ \n"
   ]
  },
  {
   "cell_type": "markdown",
   "metadata": {},
   "source": [
    "Given F the collection of all events of sample space $$ \\Omega $$ probability is a function $$ P:F \\to [0,1] $$ que asigna a cada suceso $$ A \\in F $$ a number that fulfills the following axioms."
   ]
  },
  {
   "cell_type": "code",
   "execution_count": null,
   "metadata": {},
   "outputs": [],
   "source": []
  }
 ],
 "metadata": {
  "kernelspec": {
   "display_name": "Python 3",
   "language": "python",
   "name": "python3"
  },
  "language_info": {
   "codemirror_mode": {
    "name": "ipython",
    "version": 3
   },
   "file_extension": ".py",
   "mimetype": "text/x-python",
   "name": "python",
   "nbconvert_exporter": "python",
   "pygments_lexer": "ipython3",
   "version": "3.7.1"
  }
 },
 "nbformat": 4,
 "nbformat_minor": 2
}
