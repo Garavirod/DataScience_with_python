{
 "cells": [
  {
   "cell_type": "markdown",
   "metadata": {},
   "source": [
    "# Discovery of Multiple-Levels Association Rules from Large DB"
   ]
  },
  {
   "cell_type": "markdown",
   "metadata": {},
   "source": [
    "### A method for mining mutiple-level association rules\n",
    "#### ML_T2\n",
    "\n",
    "\n",
    "> * _Jiawei Han_\n",
    "> * _Yogiian Fu_\n",
    "\n",
    "### Input :\n",
    "* __1)__A herachy-infromation encoded transaction database T[1] wth the schema:\n",
    "    * _Transaction (TID)_, in wich each item  in the itemset contains encoded concept  herarchy information.\n",
    "    \n",
    "    \n",
    "* __2)__The minimun supp threshold (_minsupp[l])_ for each concept level l.\n",
    "\n",
    "\n",
    "### Output\n",
    "Large Item sets for mining strog ML assosiation rules for the relevant set of transaction data."
   ]
  },
  {
   "cell_type": "markdown",
   "metadata": {},
   "source": [
    "### Implementation "
   ]
  },
  {
   "cell_type": "code",
   "execution_count": 3,
   "metadata": {},
   "outputs": [],
   "source": [
    "import pandas as pd\n",
    "from itertools import*\n",
    "import numpy as np\n",
    "from IPython.display import Image"
   ]
  },
  {
   "cell_type": "markdown",
   "metadata": {},
   "source": [
    "### Example Data"
   ]
  },
  {
   "cell_type": "code",
   "execution_count": 4,
   "metadata": {},
   "outputs": [
    {
     "data": {
      "image/png": "[encoded data removed]",
      "text/plain": [
       "<IPython.core.display.Image object>"
      ]
     },
     "execution_count": 4,
     "metadata": {},
     "output_type": "execute_result"
    }
   ],
   "source": [
    "Image(\"../Images/1.png\")"
   ]
  },
  {
   "cell_type": "markdown",
   "metadata": {},
   "source": [
    "### Transaction Table  T[1]"
   ]
  },
  {
   "cell_type": "code",
   "execution_count": 5,
   "metadata": {},
   "outputs": [],
   "source": [
    "T1 = pd.DataFrame({\n",
    "    \n",
    "    \"TDI\" : [\"T10{}\".format(i+1) for i in range(7)],\n",
    "    \"ItemSet\": [[\"111\",\"121\",\"211\",\"221\"],\n",
    "              [\"111\",\"211\",\"222\",\"323\"],\n",
    "              [\"112\",\"122\",\"221\",\"411\"],\n",
    "              [\"111\",\"211\"],\n",
    "              [\"111\",\"122\",\"211\",\"221\",\"413\"],\n",
    "              [\"211\",\"323\",\"524\"],\n",
    "              [\"323\",\"411\",\"524\",\"713\"]]\n",
    "})"
   ]
  },
  {
   "cell_type": "code",
   "execution_count": 6,
   "metadata": {},
   "outputs": [
    {
     "data": {
      "text/html": [
       "<div>\n",
       "<style scoped>\n",
       "    .dataframe tbody tr th:only-of-type {\n",
       "        vertical-align: middle;\n",
       "    }\n",
       "\n",
       "    .dataframe tbody tr th {\n",
       "        vertical-align: top;\n",
       "    }\n",
       "\n",
       "    .dataframe thead th {\n",
       "        text-align: right;\n",
       "    }\n",
       "</style>\n",
       "<table border=\"1\" class=\"dataframe\">\n",
       "  <thead>\n",
       "    <tr style=\"text-align: right;\">\n",
       "      <th></th>\n",
       "      <th>TDI</th>\n",
       "      <th>ItemSet</th>\n",
       "    </tr>\n",
       "  </thead>\n",
       "  <tbody>\n",
       "    <tr>\n",
       "      <th>0</th>\n",
       "      <td>T101</td>\n",
       "      <td>[111, 121, 211, 221]</td>\n",
       "    </tr>\n",
       "    <tr>\n",
       "      <th>1</th>\n",
       "      <td>T102</td>\n",
       "      <td>[111, 211, 222, 323]</td>\n",
       "    </tr>\n",
       "    <tr>\n",
       "      <th>2</th>\n",
       "      <td>T103</td>\n",
       "      <td>[112, 122, 221, 411]</td>\n",
       "    </tr>\n",
       "    <tr>\n",
       "      <th>3</th>\n",
       "      <td>T104</td>\n",
       "      <td>[111, 211]</td>\n",
       "    </tr>\n",
       "    <tr>\n",
       "      <th>4</th>\n",
       "      <td>T105</td>\n",
       "      <td>[111, 122, 211, 221, 413]</td>\n",
       "    </tr>\n",
       "    <tr>\n",
       "      <th>5</th>\n",
       "      <td>T106</td>\n",
       "      <td>[211, 323, 524]</td>\n",
       "    </tr>\n",
       "    <tr>\n",
       "      <th>6</th>\n",
       "      <td>T107</td>\n",
       "      <td>[323, 411, 524, 713]</td>\n",
       "    </tr>\n",
       "  </tbody>\n",
       "</table>\n",
       "</div>"
      ],
      "text/plain": [
       "    TDI                    ItemSet\n",
       "0  T101       [111, 121, 211, 221]\n",
       "1  T102       [111, 211, 222, 323]\n",
       "2  T103       [112, 122, 221, 411]\n",
       "3  T104                 [111, 211]\n",
       "4  T105  [111, 122, 211, 221, 413]\n",
       "5  T106            [211, 323, 524]\n",
       "6  T107       [323, 411, 524, 713]"
      ]
     },
     "execution_count": 6,
     "metadata": {},
     "output_type": "execute_result"
    }
   ],
   "source": [
    "T1"
   ]
  },
  {
   "cell_type": "markdown",
   "metadata": {},
   "source": [
    "### Procedures"
   ]
  },
  {
   "cell_type": "code",
   "execution_count": 7,
   "metadata": {},
   "outputs": [],
   "source": [
    "def get_large_1_itemsets(minsupp,T,C,level,k):\n",
    "    L = list()\n",
    "    Ck = list(product(C,repeat=k))\n",
    "    for i in Ck:\n",
    "        supp = 0\n",
    "        for it in T[\"ItemSet\"]:                        \n",
    "            for x in it:                \n",
    "                if x[0:level] == \"\".join(i):\n",
    "                    supp +=1\n",
    "                    break\n",
    "        if supp >= minsupp:\n",
    "            L.append([\"\".join(i),supp])\n",
    "    L11 = pd.DataFrame(data=np.array(L),columns=[\"ItemSet\",\"Support\"])\n",
    "    return L11"
   ]
  },
  {
   "cell_type": "code",
   "execution_count": 8,
   "metadata": {},
   "outputs": [],
   "source": [
    "def get_filtered_t_table(T,L11):\n",
    "    L = list()\n",
    "    for t in T[\"ItemSet\"]: #Para cada item set de L11\n",
    "        tp = list()\n",
    "        for it in L11[\"ItemSet\"]: \n",
    "            tp += list(filterfalse(lambda x: x[0] != it[0], t)) #Filtramos los valores\n",
    "        L.append(tp)\n",
    "    T2 = pd.DataFrame(data=np.array(L),columns=[\"ItemSet\"])\n",
    "    return T2 #ReTorna la tabla T1 ya filtrada con los valores de L11, es decir T2"
   ]
  },
  {
   "cell_type": "code",
   "execution_count": 9,
   "metadata": {},
   "outputs": [],
   "source": [
    "def gen_candidate_set(level,k,memo):\n",
    "    L = memo[level]\n",
    "    S = list(combinations(list(L[\"ItemSet\"]),k))\n",
    "    return S"
   ]
  },
  {
   "cell_type": "code",
   "execution_count": 10,
   "metadata": {},
   "outputs": [],
   "source": [
    "def gen_large_k_itemset(Ck,Tl,minsupp,l,k):\n",
    "    L = list()\n",
    "    for c in Ck:\n",
    "        supp = 0\n",
    "        A = set(c)\n",
    "        for s in Tl:\n",
    "            if A.issubset(s):\n",
    "                supp += 1                \n",
    "        if supp >= minsupp:\n",
    "            L.append([\"{} --- {}\".format(c,supp)])                \n",
    "    Llk = pd.DataFrame(data=np.array(L),columns=[\"L [{},{}]\".format(l,k)])\n",
    "    return Llk            "
   ]
  },
  {
   "cell_type": "code",
   "execution_count": 11,
   "metadata": {},
   "outputs": [],
   "source": [
    "def gen_table_level_set(T,level):\n",
    "    TL = list()\n",
    "    for t in T[\"ItemSet\"]:\n",
    "        S = list()\n",
    "        for x in t:\n",
    "            S.append(x[:level])\n",
    "        TL.append(set(S))\n",
    "    return TL                    "
   ]
  },
  {
   "cell_type": "markdown",
   "metadata": {},
   "source": [
    "### Algorithm "
   ]
  },
  {
   "cell_type": "code",
   "execution_count": 12,
   "metadata": {},
   "outputs": [
    {
     "name": "stdout",
     "output_type": "stream",
     "text": [
      "\n",
      "L[1,1]\n",
      "   ItemSet Support\n",
      "0       1       5\n",
      "1       2       6\n",
      "\n",
      "Filtered Transaction Table T[2]\n",
      "                 ItemSet\n",
      "0  [111, 121, 211, 221]\n",
      "1       [111, 211, 222]\n",
      "2       [112, 122, 221]\n",
      "3            [111, 211]\n",
      "4  [111, 122, 211, 221]\n",
      "5                 [211]\n",
      "6                    []\n",
      "            L [1,2]\n",
      "0  ('1', '2') --- 5\n",
      "\n",
      "L[2,1]\n",
      "   ItemSet Support\n",
      "0      11       5\n",
      "1      12       3\n",
      "2      21       5\n",
      "3      22       4\n",
      "              L [2,2]\n",
      "0  ('11', '12') --- 3\n",
      "1  ('11', '21') --- 4\n",
      "2  ('11', '22') --- 4\n",
      "3  ('12', '22') --- 3\n",
      "4  ('21', '22') --- 3\n",
      "                    L [2,3]\n",
      "0  ('11', '12', '22') --- 3\n",
      "1  ('11', '21', '22') --- 3\n",
      "\n",
      "L[3,1]\n",
      "   ItemSet Support\n",
      "0     111       4\n",
      "1     211       5\n",
      "2     221       3\n",
      "                L [3,2]\n",
      "0  ('111', '211') --- 4\n"
     ]
    }
   ],
   "source": [
    "memoLlk = dict()\n",
    "T2 = None\n",
    "for level in range(1,4):\n",
    "    if level == 1:\n",
    "        Ck = [\"1\",\"2\",\"3\",\"4\",\"5\",\"6\",\"7\"]\n",
    "        Ll1 = get_large_1_itemsets(4,T1,Ck,1,1) #L de nivel 1 en grupos de tamaño 1\n",
    "        memoLlk.update({level:Ll1})\n",
    "        print(\"\\nL[{},{}]\\n\".format(level,1),Ll1)\n",
    "        T2 = get_filtered_t_table(T1,Ll1)\n",
    "        print(\"\\nFiltered Transaction Table T[2]\\n\",T2)\n",
    "        C_Ll1 = list(Ll1[\"ItemSet\"])\n",
    "    else:        \n",
    "        Ll1 = get_large_1_itemsets(3,T2,C_Ll1,level,level)\n",
    "        memoLlk.update({level:Ll1})\n",
    "        print(\"\\nL[{},{}]\\n\".format(level,1),Ll1)\n",
    "    if list(Ll1[\"ItemSet\"]):\n",
    "        k =2\n",
    "        Tl = gen_table_level_set(T2,level)\n",
    "        Ck = gen_candidate_set(level,k,memoLlk)\n",
    "        while Ck:\n",
    "            Llk = gen_large_k_itemset(Ck,Tl,3,level,k)\n",
    "            if not Llk.empty:\n",
    "                print(Llk) \n",
    "            k +=1\n",
    "            Ck = gen_candidate_set(level,k,memoLlk)\n",
    "    else: \n",
    "        break"
   ]
  }
 ],
 "metadata": {
  "kernelspec": {
   "display_name": "Python 3",
   "language": "python",
   "name": "python3"
  },
  "language_info": {
   "codemirror_mode": {
    "name": "ipython",
    "version": 3
   },
   "file_extension": ".py",
   "mimetype": "text/x-python",
   "name": "python",
   "nbconvert_exporter": "python",
   "pygments_lexer": "ipython3",
   "version": "3.7.1"
  }
 },
 "nbformat": 4,
 "nbformat_minor": 2
}
