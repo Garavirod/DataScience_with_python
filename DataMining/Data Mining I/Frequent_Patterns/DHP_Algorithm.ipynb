{
 "cells": [
  {
   "cell_type": "markdown",
   "metadata": {},
   "source": [
    "# Direct Hashing and Purning (DHP)"
   ]
  },
  {
   "cell_type": "markdown",
   "metadata": {},
   "source": [
    "### An Effective Hash-Based Algorithm for Mining Association Rules\n",
    "\n",
    "DHP algorithm is a hash based techniques to improve the performance of Apriori algorithm.DHP algorithm uses a hash function for candidate item set generation and also use pruning to successively reduce the size of transaction database.\n",
    "\n",
    "> * _Jong Soo Park_\n",
    "> * _Ming-Syan Chen_\n",
    "> * _Philip S. Yu_\n"
   ]
  },
  {
   "cell_type": "markdown",
   "metadata": {},
   "source": [
    "#### Steps\n",
    "\n",
    "    1. Scan the database to count the support of candidate-1(C1) item set and select the items who have support     count>=min_sup to add into large item set(L1).\n",
    "    \n",
    "    2. Now make possible set of candidate-2 item set in each transaction of database (D2). Hash function is       applied on each candidate-2 item set to find the corresponding bucket number.\n",
    "\n",
    "    3. Scan database (D2) and hash each item set of transactions into corresponding hash bucket. Some item         sets are hashed into same bucket this is called collision problem.\n",
    "\n",
    "    4. Select only that candidate-2 item setwhose corresponding bucket count>=min_sup.If there is no collision     then adds into L2.\n",
    "    \n",
    "        a. If there is no collision then add the selected item sets into L2.\n",
    "        \n",
    "        b. Else one more scan of database is required to count the support of collided item sets and the item set  having support >=min_sup is added into L2.\n",
    "        \n",
    "    5. Now make possible set of candidate-3 item set (D3) and repeat the same procedure until Ck=’\n"
   ]
  },
  {
   "cell_type": "code",
   "execution_count": 1,
   "metadata": {},
   "outputs": [],
   "source": [
    "import pandas as pd\n",
    "from itertools import *\n",
    "import numpy as np"
   ]
  },
  {
   "cell_type": "code",
   "execution_count": 2,
   "metadata": {},
   "outputs": [],
   "source": [
    "dta =  pd.DataFrame({\n",
    "    \"TID\": [\"T{}\".format(i+1) for i in range(5)],\n",
    "    \"List of Items\":[['A','C','D'],['B','C','E'],['A','B','C','E'],['B','E'],['A','B','C','D']]\n",
    "})"
   ]
  },
  {
   "cell_type": "markdown",
   "metadata": {},
   "source": [
    "#### Database TDB"
   ]
  },
  {
   "cell_type": "code",
   "execution_count": 3,
   "metadata": {},
   "outputs": [
    {
     "data": {
      "text/html": [
       "<div>\n",
       "<style scoped>\n",
       "    .dataframe tbody tr th:only-of-type {\n",
       "        vertical-align: middle;\n",
       "    }\n",
       "\n",
       "    .dataframe tbody tr th {\n",
       "        vertical-align: top;\n",
       "    }\n",
       "\n",
       "    .dataframe thead th {\n",
       "        text-align: right;\n",
       "    }\n",
       "</style>\n",
       "<table border=\"1\" class=\"dataframe\">\n",
       "  <thead>\n",
       "    <tr style=\"text-align: right;\">\n",
       "      <th></th>\n",
       "      <th>TID</th>\n",
       "      <th>List of Items</th>\n",
       "    </tr>\n",
       "  </thead>\n",
       "  <tbody>\n",
       "    <tr>\n",
       "      <th>0</th>\n",
       "      <td>T1</td>\n",
       "      <td>[A, C, D]</td>\n",
       "    </tr>\n",
       "    <tr>\n",
       "      <th>1</th>\n",
       "      <td>T2</td>\n",
       "      <td>[B, C, E]</td>\n",
       "    </tr>\n",
       "    <tr>\n",
       "      <th>2</th>\n",
       "      <td>T3</td>\n",
       "      <td>[A, B, C, E]</td>\n",
       "    </tr>\n",
       "    <tr>\n",
       "      <th>3</th>\n",
       "      <td>T4</td>\n",
       "      <td>[B, E]</td>\n",
       "    </tr>\n",
       "    <tr>\n",
       "      <th>4</th>\n",
       "      <td>T5</td>\n",
       "      <td>[A, B, C, D]</td>\n",
       "    </tr>\n",
       "  </tbody>\n",
       "</table>\n",
       "</div>"
      ],
      "text/plain": [
       "  TID List of Items\n",
       "0  T1     [A, C, D]\n",
       "1  T2     [B, C, E]\n",
       "2  T3  [A, B, C, E]\n",
       "3  T4        [B, E]\n",
       "4  T5  [A, B, C, D]"
      ]
     },
     "execution_count": 3,
     "metadata": {},
     "output_type": "execute_result"
    }
   ],
   "source": [
    "dta"
   ]
  },
  {
   "cell_type": "markdown",
   "metadata": {},
   "source": [
    "#### Mínimo soprte"
   ]
  },
  {
   "cell_type": "code",
   "execution_count": 4,
   "metadata": {},
   "outputs": [],
   "source": [
    "minsup = 2"
   ]
  },
  {
   "cell_type": "markdown",
   "metadata": {},
   "source": [
    "#### Candidatos principales"
   ]
  },
  {
   "cell_type": "code",
   "execution_count": 5,
   "metadata": {},
   "outputs": [
    {
     "name": "stdout",
     "output_type": "stream",
     "text": [
      "Candidates = {'B', 'D', 'A', 'E', 'C'}\n"
     ]
    }
   ],
   "source": [
    "#Conseguimos los candidatos principales del data Frame\n",
    "candidates = set()\n",
    "for items in dta[\"List of Items\"]:\n",
    "    candidates = candidates.union(set(items))\n",
    "print(\"Candidates = {}\".format(candidates))"
   ]
  },
  {
   "cell_type": "markdown",
   "metadata": {},
   "source": [
    "#### Procedure"
   ]
  },
  {
   "cell_type": "code",
   "execution_count": 6,
   "metadata": {},
   "outputs": [],
   "source": [
    "#Ésta función realcia el hasheo del elemento\n",
    "def hashing(itemset,mod,grade,lexicOrder):\n",
    "    h = 0\n",
    "    g = grade\n",
    "    itemset=list(itemset)\n",
    "    itemset.sort()\n",
    "    for i in itemset:\n",
    "        index = lexicOrder.index(i)\n",
    "        h += (index+1)*g\n",
    "        g = g//10\n",
    "    return h % mod"
   ]
  },
  {
   "cell_type": "markdown",
   "metadata": {},
   "source": [
    "#### Implementación DHP"
   ]
  },
  {
   "cell_type": "code",
   "execution_count": 12,
   "metadata": {},
   "outputs": [],
   "source": [
    "def DHP(candidates,minsup,dataFrame,sizeHasTab): \n",
    "    #Oredenamos lexicograficamente los elementos\n",
    "    LexicOrder = list(candidates)\n",
    "    LexicOrder.sort()\n",
    "    mod = sizeHasTab + 1 #Módulo\n",
    "    C = candidates #Conjunto de candidatos\n",
    "    Di = dataFrame\n",
    "    tuplas = list() #Lista pra formar un Data Frame\n",
    "    x =set()\n",
    "    #Hallamos L1 a partir de los candidatos\n",
    "    for c in C:\n",
    "        supp = 0\n",
    "        A = set(c)\n",
    "        for t in dataFrame[\"List of Items\"]:\n",
    "            B = set(t)\n",
    "            if A.issubset(B):\n",
    "                supp +=1\n",
    "        if supp >= minsup:\n",
    "            x = x.union(A)\n",
    "            tuplas.append([A,supp])\n",
    "    L1 = pd.DataFrame(data=np.array(tuplas),columns=[\"ItemSet\",\"Support\"])\n",
    "    print(\"\\n {} \\n L1 :\\n\\n\".format(\"-\"*40),L1)\n",
    "    \n",
    "    k = 2\n",
    "    Ck = set(combinations(x,k))\n",
    "    while Ck: #Mientras el conjunto Ck no esté vacio        \n",
    "        #Creamos una nueva tabla D cuyos items set seran de grupos de tamaño k\n",
    "        w = list()\n",
    "        for iSet in dataFrame[\"List of Items\"]:\n",
    "            A = set()            \n",
    "            for e in iSet:\n",
    "                B = set(e)\n",
    "                A = A.union(B)        \n",
    "            if A.issubset(C) and len(A)>=k:\n",
    "                s = set(combinations(A,k))\n",
    "                w.append(s)\n",
    "                \n",
    "        Di = pd.DataFrame(data=np.array(w),columns=[\"List of Items\"])\n",
    "        print(\"\\n {} \\n D{} \\n\\n\".format(\"-\"*40,k),Di)\n",
    "\n",
    "        #Creamos una tabla hash de tamaño sizeHashTab\n",
    "        hashTable = [[] for i in range(sizeHasTab+1)]\n",
    "\n",
    "        #Hasheamos cada itemset de la tabla nueva y lo colocamos en un buket STEP 3\n",
    "        grade = 10**(k-1)\n",
    "        for iSet in Di[\"List of Items\"]:        \n",
    "            for e in iSet:            \n",
    "                buket = hashing(e,mod,grade,LexicOrder)\n",
    "                hashTable[buket].append(set(e)) #Colocamos en el buket el elemento e\n",
    "\n",
    "        print(\"\\n {} \\n HASH TABLE : \\n\\n\".format(\"-\"*40),hashTable)       \n",
    "\n",
    "        #Generamos Li X Li\n",
    "        lxl = set(combinations(set(x),k))\n",
    "        \n",
    "        #Generamos L(i+1) dados los candidtos lxl STEP 4\n",
    "        C = set()\n",
    "        tuplas = list()\n",
    "        x = set()\n",
    "        for e in lxl:\n",
    "            index_buket = hashing(e,mod,grade,LexicOrder)\n",
    "            if len(hashTable[index_buket]) >= minsup:            \n",
    "                A = set(e)\n",
    "                C = C.union(A)                \n",
    "                supp =  hashTable[index_buket].count(A)\n",
    "                if supp >= minsup:\n",
    "                    x = x.union(A)\n",
    "                    tuplas.append([\"{} --- {}\".format(A,supp)])\n",
    "        Li = pd.DataFrame(data=np.array(tuplas),columns=[\"Support\"])\n",
    "        print(\"\\n {} \\n L{} :\\n\\n\".format(\"-\"*40,k),Li)\n",
    "        k +=1\n",
    "        Ck = set(combinations(x,k))"
   ]
  },
  {
   "cell_type": "code",
   "execution_count": 13,
   "metadata": {},
   "outputs": [
    {
     "name": "stdout",
     "output_type": "stream",
     "text": [
      "\n",
      " ---------------------------------------- \n",
      " L1 :\n",
      "\n",
      "   ItemSet Support\n",
      "0     {B}       4\n",
      "1     {D}       2\n",
      "2     {A}       3\n",
      "3     {E}       3\n",
      "4     {C}       4\n",
      "\n",
      " ---------------------------------------- \n",
      " D2 \n",
      "\n",
      "                                       List of Items\n",
      "0                          {(D, C), (A, D), (A, C)}\n",
      "1                          {(B, C), (B, E), (E, C)}\n",
      "2  {(A, E), (A, C), (B, E), (B, C), (E, C), (A, B)}\n",
      "3                                          {(B, E)}\n",
      "4  {(A, C), (B, D), (B, C), (A, D), (D, C), (A, B)}\n",
      "\n",
      " ---------------------------------------- \n",
      " HASH TABLE : \n",
      "\n",
      " [[{'A', 'D'}, {'E', 'C'}, {'E', 'C'}, {'A', 'D'}], [{'A', 'E'}], [{'B', 'C'}, {'B', 'C'}, {'B', 'C'}], [{'B', 'D'}], [{'B', 'E'}, {'B', 'E'}, {'B', 'E'}], [{'A', 'B'}, {'A', 'B'}], [{'D', 'C'}, {'A', 'C'}, {'A', 'C'}, {'A', 'C'}, {'D', 'C'}]]\n",
      "\n",
      " ---------------------------------------- \n",
      " L2 :\n",
      "\n",
      "             Support\n",
      "0  {'A', 'B'} --- 2\n",
      "1  {'A', 'C'} --- 3\n",
      "2  {'D', 'C'} --- 2\n",
      "3  {'B', 'C'} --- 3\n",
      "4  {'B', 'E'} --- 3\n",
      "5  {'A', 'D'} --- 2\n",
      "6  {'E', 'C'} --- 2\n",
      "\n",
      " ---------------------------------------- \n",
      " D3 \n",
      "\n",
      "                                   List of Items\n",
      "0                                   {(A, D, C)}\n",
      "1                                   {(B, E, C)}\n",
      "2  {(A, B, C), (A, B, E), (B, E, C), (A, E, C)}\n",
      "3  {(A, B, D), (A, B, C), (B, D, C), (A, D, C)}\n",
      "\n",
      " ---------------------------------------- \n",
      " HASH TABLE : \n",
      "\n",
      " [[], [{'A', 'D', 'C'}, {'A', 'D', 'C'}], [{'A', 'E', 'C'}], [{'B', 'D', 'C'}], [{'B', 'E', 'C'}, {'A', 'B', 'C'}, {'B', 'E', 'C'}, {'A', 'B', 'C'}], [{'A', 'B', 'D'}], [{'A', 'B', 'E'}]]\n",
      "\n",
      " ---------------------------------------- \n",
      " L3 :\n",
      "\n",
      "                  Support\n",
      "0  {'A', 'D', 'C'} --- 2\n",
      "1  {'A', 'B', 'C'} --- 2\n",
      "2  {'B', 'E', 'C'} --- 2\n",
      "\n",
      " ---------------------------------------- \n",
      " D4 \n",
      "\n",
      "     List of Items\n",
      "0  {(A, B, E, C)}\n",
      "1  {(A, B, D, C)}\n",
      "\n",
      " ---------------------------------------- \n",
      " HASH TABLE : \n",
      "\n",
      " [[], [], [{'A', 'B', 'D', 'C'}], [{'A', 'B', 'E', 'C'}], [], [], []]\n",
      "\n",
      " ---------------------------------------- \n",
      " L4 :\n",
      "\n",
      " Empty DataFrame\n",
      "Columns: [Support]\n",
      "Index: []\n"
     ]
    }
   ],
   "source": [
    "c = candidates #Candidatos principales\n",
    "ms = minsup #Mínimo soporte defnido\n",
    "dataFrame = dta #Tabla o dataFrame de las trasnsacciones \n",
    "n = 6 #Tamaño de la tabla hash \n",
    "DHP(c,ms, dataFrame,n)"
   ]
  }
 ],
 "metadata": {
  "kernelspec": {
   "display_name": "Python 3",
   "language": "python",
   "name": "python3"
  },
  "language_info": {
   "codemirror_mode": {
    "name": "ipython",
    "version": 3
   },
   "file_extension": ".py",
   "mimetype": "text/x-python",
   "name": "python",
   "nbconvert_exporter": "python",
   "pygments_lexer": "ipython3",
   "version": "3.7.1"
  }
 },
 "nbformat": 4,
 "nbformat_minor": 2
}
