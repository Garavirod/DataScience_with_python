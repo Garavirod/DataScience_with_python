{
 "cells": [
  {
   "cell_type": "markdown",
   "metadata": {},
   "source": [
    "# Apriori Algorithm"
   ]
  },
  {
   "cell_type": "markdown",
   "metadata": {},
   "source": [
    "It is an algorithm used in data mining, on transactional databases, which allows to find efficiently \"sets of frequent items\", which serve as a basis to generate association rules. It proceeds by identifying the frequent individual items in the base and extending them to larger sets as long as those data sets appear sufficiently followed in said database. This algorithm has been widely applied in the analysis of commercial transactions and in prediction problems.\n",
    "\n",
    "\n",
    "> * _Agrawal_\n",
    "> * _Srikant_"
   ]
  },
  {
   "cell_type": "code",
   "execution_count": 1,
   "metadata": {},
   "outputs": [],
   "source": [
    "import pandas as pd\n",
    "from itertools import *\n",
    "import numpy as np"
   ]
  },
  {
   "cell_type": "code",
   "execution_count": 2,
   "metadata": {},
   "outputs": [],
   "source": [
    "dta = pd.DataFrame({\n",
    "    \"TID\" :[\"T{}\".format(i+1) for i in range(5)],\n",
    "    #\"List of Items\":[[1,2,5],[1,4],[2,3],[1,2,4],[1,3],[2,3],[1,3],[1,3],[1,2,3,5],[1,2,3]]    \n",
    "    \"List of Items\":[['A','C','D'],['B','C','E'],['A','B','C','E'],['B','E'],['A','B','C','D']]        \n",
    "})"
   ]
  },
  {
   "cell_type": "markdown",
   "metadata": {},
   "source": [
    "#### Database TDB"
   ]
  },
  {
   "cell_type": "code",
   "execution_count": 3,
   "metadata": {},
   "outputs": [
    {
     "data": {
      "text/html": [
       "<div>\n",
       "<style scoped>\n",
       "    .dataframe tbody tr th:only-of-type {\n",
       "        vertical-align: middle;\n",
       "    }\n",
       "\n",
       "    .dataframe tbody tr th {\n",
       "        vertical-align: top;\n",
       "    }\n",
       "\n",
       "    .dataframe thead th {\n",
       "        text-align: right;\n",
       "    }\n",
       "</style>\n",
       "<table border=\"1\" class=\"dataframe\">\n",
       "  <thead>\n",
       "    <tr style=\"text-align: right;\">\n",
       "      <th></th>\n",
       "      <th>TID</th>\n",
       "      <th>List of Items</th>\n",
       "    </tr>\n",
       "  </thead>\n",
       "  <tbody>\n",
       "    <tr>\n",
       "      <th>0</th>\n",
       "      <td>T1</td>\n",
       "      <td>[A, C, D]</td>\n",
       "    </tr>\n",
       "    <tr>\n",
       "      <th>1</th>\n",
       "      <td>T2</td>\n",
       "      <td>[B, C, E]</td>\n",
       "    </tr>\n",
       "    <tr>\n",
       "      <th>2</th>\n",
       "      <td>T3</td>\n",
       "      <td>[A, B, C, E]</td>\n",
       "    </tr>\n",
       "    <tr>\n",
       "      <th>3</th>\n",
       "      <td>T4</td>\n",
       "      <td>[B, E]</td>\n",
       "    </tr>\n",
       "    <tr>\n",
       "      <th>4</th>\n",
       "      <td>T5</td>\n",
       "      <td>[A, B, C, D]</td>\n",
       "    </tr>\n",
       "  </tbody>\n",
       "</table>\n",
       "</div>"
      ],
      "text/plain": [
       "  TID List of Items\n",
       "0  T1     [A, C, D]\n",
       "1  T2     [B, C, E]\n",
       "2  T3  [A, B, C, E]\n",
       "3  T4        [B, E]\n",
       "4  T5  [A, B, C, D]"
      ]
     },
     "execution_count": 3,
     "metadata": {},
     "output_type": "execute_result"
    }
   ],
   "source": [
    "dta"
   ]
  },
  {
   "cell_type": "markdown",
   "metadata": {},
   "source": [
    "#### Mínimo soporte"
   ]
  },
  {
   "cell_type": "code",
   "execution_count": 4,
   "metadata": {},
   "outputs": [],
   "source": [
    "minsup = 2"
   ]
  },
  {
   "cell_type": "markdown",
   "metadata": {},
   "source": [
    "#### Candidatos"
   ]
  },
  {
   "cell_type": "code",
   "execution_count": 5,
   "metadata": {},
   "outputs": [
    {
     "name": "stdout",
     "output_type": "stream",
     "text": [
      "Candidates = {'B', 'C', 'A', 'E', 'D'}\n"
     ]
    }
   ],
   "source": [
    "#Conseguimos los candidatos principales del data Frame\n",
    "candidates = set()\n",
    "for items in dta[\"List of Items\"]:\n",
    "    candidates = candidates.union(set(items))\n",
    "print(\"Candidates = {}\".format(candidates))"
   ]
  },
  {
   "cell_type": "markdown",
   "metadata": {},
   "source": [
    "#### Algoritmo apriori\n",
    "\n",
    "La siguiente función encunetra los patrones frecuentes usando el algoritmo apriori donde:\n",
    "    1. canidates: es el conjunto de candidatos principal.\n",
    "    2. minsup es el mínimo soporte con el que se va a trabajar\n",
    "    3. dataFrame : es el data frame del las transacciones de la TDB\n",
    "    \n",
    "Para cada conjunto de candidatos, la función guarda en una lista todos los data frames generados y dicha lista la retorna."
   ]
  },
  {
   "cell_type": "code",
   "execution_count": 12,
   "metadata": {},
   "outputs": [],
   "source": [
    "def Apriori(candidates,minsup,dataFrame):\n",
    "    it = 1\n",
    "    can = set(candidates)\n",
    "    dtaFrs = list()\n",
    "    while True:        \n",
    "        set_can_aux = set(combinations(can,it)) #Conjunto de tuplas, donde cada tupla tiene los candidatos\n",
    "        if set_can_aux: #Verificamos si el conjunto no está vacio\n",
    "            L = list()\n",
    "            x = set()\n",
    "            for e in set_can_aux: #Para cada tupla del conjunto de candidatos\n",
    "                sup = 0            \n",
    "                A = set(e)\n",
    "                for t in dataFrame[\"List of Items\"]: #Para cada transaccion del dataframe\n",
    "                    B = set(t)\n",
    "                    if A.issubset(B): #Si A es subconjunto de B \n",
    "                        sup +=1                    \n",
    "                if sup >= minsup:\n",
    "                    x = x.union(set(e))\n",
    "                    L.append([\"{} --- {}\".format(A,sup)])\n",
    "            df = pd.DataFrame(data=np.array(L),columns=[\"Support\"])\n",
    "            dtaFrs.append(df)\n",
    "            can = x\n",
    "            it += 1 \n",
    "        else:\n",
    "            break\n",
    "    return dtaFrs"
   ]
  },
  {
   "cell_type": "markdown",
   "metadata": {},
   "source": [
    "#### Resultados"
   ]
  },
  {
   "cell_type": "code",
   "execution_count": 13,
   "metadata": {},
   "outputs": [
    {
     "name": "stdout",
     "output_type": "stream",
     "text": [
      "----------------------------------------\n",
      "       Support\n",
      "0  {'A'} --- 3\n",
      "1  {'D'} --- 2\n",
      "2  {'B'} --- 4\n",
      "3  {'E'} --- 3\n",
      "4  {'C'} --- 4 \n",
      "\n",
      "----------------------------------------\n",
      "            Support\n",
      "0  {'A', 'C'} --- 3\n",
      "1  {'D', 'A'} --- 2\n",
      "2  {'B', 'A'} --- 2\n",
      "3  {'E', 'B'} --- 3\n",
      "4  {'D', 'C'} --- 2\n",
      "5  {'B', 'C'} --- 3\n",
      "6  {'E', 'C'} --- 2 \n",
      "\n",
      "----------------------------------------\n",
      "                 Support\n",
      "0  {'A', 'D', 'C'} --- 2\n",
      "1  {'E', 'B', 'C'} --- 2\n",
      "2  {'B', 'A', 'C'} --- 2 \n",
      "\n",
      "----------------------------------------\n",
      "Empty DataFrame\n",
      "Columns: [Support]\n",
      "Index: [] \n",
      "\n"
     ]
    }
   ],
   "source": [
    "dfs = Apriori(candidates,minsup,dta)\n",
    "for i in range(len(dfs)):\n",
    "    print(\"-\"*40)\n",
    "    print (dfs[i], \"\\n\")"
   ]
  }
 ],
 "metadata": {
  "kernelspec": {
   "display_name": "Python 3",
   "language": "python",
   "name": "python3"
  },
  "language_info": {
   "codemirror_mode": {
    "name": "ipython",
    "version": 3
   },
   "file_extension": ".py",
   "mimetype": "text/x-python",
   "name": "python",
   "nbconvert_exporter": "python",
   "pygments_lexer": "ipython3",
   "version": "3.7.1"
  }
 },
 "nbformat": 4,
 "nbformat_minor": 2
}
